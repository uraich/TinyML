{
 "cells": [
  {
   "cell_type": "markdown",
   "id": "6331cde3-ecb0-41ae-91e5-fad93b832c3d",
   "metadata": {},
   "source": [
    "# Read the pixel data from the binary sample files and use the data for inference\n",
    "This should be the way that the micro-controller can run inference \n",
    "The binary sample files must be stored on the micro-controller file system or they must be converted to C++ source and include files."
   ]
  },
  {
   "cell_type": "code",
   "execution_count": 1,
   "id": "e9bcc02b-3e11-4879-877e-eef37cb72ae3",
   "metadata": {},
   "outputs": [],
   "source": [
    "import numpy as np\n",
    "import matplotlib.pyplot as plt"
   ]
  },
  {
   "cell_type": "code",
   "execution_count": 2,
   "id": "52020edf-22d1-49c8-802d-88f5d0c5bcb3",
   "metadata": {},
   "outputs": [
    {
     "name": "stderr",
     "output_type": "stream",
     "text": [
      "2023-09-30 18:09:11.523287: I tensorflow/core/platform/cpu_feature_guard.cc:182] This TensorFlow binary is optimized to use available CPU instructions in performance-critical operations.\n",
      "To enable the following instructions: AVX2 FMA, in other operations, rebuild TensorFlow with the appropriate compiler flags.\n"
     ]
    }
   ],
   "source": [
    "import tflite_runtime.interpreter as tflite\n",
    "import tensorflow as tf"
   ]
  },
  {
   "cell_type": "code",
   "execution_count": 3,
   "id": "4400a8e2-ffa7-4b90-8cf2-e0d5f63963b4",
   "metadata": {},
   "outputs": [
    {
     "name": "stderr",
     "output_type": "stream",
     "text": [
      "INFO: Created TensorFlow Lite XNNPACK delegate for CPU.\n"
     ]
    }
   ],
   "source": [
    "interpreter = tflite.Interpreter(model_path=\"models/number_model_quant.tflite\")\n",
    "interpreter.allocate_tensors()"
   ]
  },
  {
   "cell_type": "code",
   "execution_count": 4,
   "id": "57ed128e-d3fc-4400-941f-ef0b9b9b5eba",
   "metadata": {},
   "outputs": [
    {
     "name": "stdout",
     "output_type": "stream",
     "text": [
      "min and max pixel values: -128, 126\n",
      "min and max pixel values: -128, 126\n",
      "min and max pixel values: -128, 126\n",
      "min and max pixel values: -128, 126\n",
      "min and max pixel values: -128, 126\n",
      "min and max pixel values: -128, 126\n",
      "min and max pixel values: -128, 126\n",
      "min and max pixel values: -128, 126\n",
      "min and max pixel values: -128, 126\n",
      "min and max pixel values: -128, 126\n"
     ]
    }
   ],
   "source": [
    "pixel_array = [None]*10\n",
    "for img in range(10):\n",
    "    filename = \"bin_samples/sample{:d}.bin\".format(img)\n",
    "    f = open(filename,\"rb\")\n",
    "    pixels = f.read()\n",
    "    f.close()\n",
    "    pixel_array[img] = np.frombuffer(pixels,dtype=np.int8)\n",
    "    # reshape the array to (28,28)\n",
    "    pixel_array[img] = pixel_array[img].reshape(28,28)\n",
    "    # pixel_array[img].astype(np.float32)\n",
    "    pixel_array[img] = pixel_array[img]\n",
    "    print(\"min and max pixel values: {:d}, {:d}\".format(pixel_array[img].min(),pixel_array[img].max()))"
   ]
  },
  {
   "cell_type": "markdown",
   "id": "d33ce57f-421a-4ee8-83f3-068efe25c751",
   "metadata": {},
   "source": [
    "Let's try to plot the images"
   ]
  },
  {
   "cell_type": "code",
   "execution_count": 9,
   "id": "d074f62b-fe88-49cf-883c-73570688a09e",
   "metadata": {},
   "outputs": [
    {
     "data": {
      "text/plain": [
       "<Figure size 640x480 with 0 Axes>"
      ]
     },
     "metadata": {},
     "output_type": "display_data"
    },
    {
     "data": {
      "image/png": "[encoded data removed]",
      "text/plain": [
       "<Figure size 640x480 with 10 Axes>"
      ]
     },
     "metadata": {},
     "output_type": "display_data"
    }
   ],
   "source": [
    "plt.set_cmap('Greys')\n",
    "fig, axs = plt.subplots(2,5)\n",
    "for i in range(2):\n",
    "    for j in range(5):\n",
    "        axs[i,j].axis('off')\n",
    "        axs[i,j].imshow((pixel_array[5*i+j]).reshape(28,28))"
   ]
  },
  {
   "cell_type": "markdown",
   "id": "60efe333-7256-4cd7-8484-80fd8192471b",
   "metadata": {},
   "source": [
    "Get the input and output details frrom the interpreter"
   ]
  },
  {
   "cell_type": "code",
   "execution_count": 10,
   "id": "70939e22-3041-45b6-9c03-244cf27b8543",
   "metadata": {},
   "outputs": [],
   "source": [
    "input_details = interpreter.get_input_details()[0]\n",
    "output_details = interpreter.get_output_details()[0]"
   ]
  },
  {
   "cell_type": "code",
   "execution_count": 11,
   "id": "236b55d2-d95a-4b7c-86fb-2e9d4e7b53d9",
   "metadata": {},
   "outputs": [
    {
     "name": "stdout",
     "output_type": "stream",
     "text": [
      "{'name': 'serving_default_fixed_input:0', 'index': 0, 'shape': array([ 1, 28, 28], dtype=int32), 'shape_signature': array([ 1, 28, 28], dtype=int32), 'dtype': <class 'numpy.int8'>, 'quantization': (0.003921568859368563, -128), 'quantization_parameters': {'scales': array([0.00392157], dtype=float32), 'zero_points': array([-128], dtype=int32), 'quantized_dimension': 0}, 'sparsity_parameters': {}}\n",
      "\n",
      "{'name': 'StatefulPartitionedCall:0', 'index': 26, 'shape': array([ 1, 10], dtype=int32), 'shape_signature': array([ 1, 10], dtype=int32), 'dtype': <class 'numpy.int8'>, 'quantization': (0.00390625, -128), 'quantization_parameters': {'scales': array([0.00390625], dtype=float32), 'zero_points': array([-128], dtype=int32), 'quantized_dimension': 0}, 'sparsity_parameters': {}}\n"
     ]
    }
   ],
   "source": [
    "print(input_details)\n",
    "print()\n",
    "print(output_details)"
   ]
  },
  {
   "cell_type": "code",
   "execution_count": 12,
   "id": "e47d3a8d-fe76-4bde-8e2f-1924cb25a4b5",
   "metadata": {},
   "outputs": [
    {
     "name": "stdout",
     "output_type": "stream",
     "text": [
      "shape and data type:  [ 1 28 28] <class 'numpy.int8'>\n",
      "pixel data shape:  (28, 28)\n"
     ]
    }
   ],
   "source": [
    "print(\"shape and data type: \",input_details[\"shape\"],input_details[\"dtype\"])\n",
    "print(\"pixel data shape: \",pixel_array[0].shape)"
   ]
  },
  {
   "cell_type": "markdown",
   "id": "6e435487-2f74-44b6-a0c4-5c0d39031640",
   "metadata": {},
   "source": [
    "So, we will have to reshape the pixel data"
   ]
  },
  {
   "cell_type": "code",
   "execution_count": 13,
   "id": "035b96b1-9ee1-4daa-b295-96c2bef519dc",
   "metadata": {},
   "outputs": [
    {
     "name": "stdout",
     "output_type": "stream",
     "text": [
      "New pixel_array shape:  (1, 28, 28)\n",
      "pixel array data type:  int8\n"
     ]
    }
   ],
   "source": [
    "for img in range(10):\n",
    "    pixel_array[img] = pixel_array[img].reshape(1,28,28)\n",
    "print(\"New pixel_array shape: \",pixel_array[0].shape)\n",
    "print(\"pixel array data type: \",pixel_array[0].dtype)"
   ]
  },
  {
   "cell_type": "code",
   "execution_count": 14,
   "id": "d5578e98-08fe-4576-a3cc-a7a4221deca8",
   "metadata": {},
   "outputs": [
    {
     "name": "stdout",
     "output_type": "stream",
     "text": [
      "[[ 123 -128 -128 -128 -128 -127 -124 -128 -128 -128]]\n"
     ]
    }
   ],
   "source": [
    "interpreter.set_tensor(input_details['index'],pixel_array[0])\n",
    "interpreter.invoke()\n",
    "output = interpreter.get_tensor(output_details['index'])\n",
    "print(output)"
   ]
  },
  {
   "cell_type": "markdown",
   "id": "c872dbc9-0776-440c-8d0a-ac90b303a083",
   "metadata": {},
   "source": [
    "Now we are ready to pass these data to the interpreter and invoke inference"
   ]
  },
  {
   "cell_type": "code",
   "execution_count": 15,
   "id": "ec04c38e-bd88-4c70-bb63-41ceb9c8a88f",
   "metadata": {},
   "outputs": [],
   "source": [
    "output_data = [None]*10\n",
    "for img in range(10):\n",
    "    interpreter.set_tensor(input_details['index'],pixel_array[img])\n",
    "    interpreter.invoke()\n",
    "    output_data[img] = interpreter.get_tensor(output_details['index']).reshape(10,)"
   ]
  },
  {
   "cell_type": "markdown",
   "id": "567800e4-027b-4923-be1b-ab68b518cfa2",
   "metadata": {},
   "source": [
    "Let's get at the output data and see it we found the correct digit"
   ]
  },
  {
   "cell_type": "code",
   "execution_count": 16,
   "id": "ee91f524-8f0d-4a5c-a037-5fd52f093522",
   "metadata": {},
   "outputs": [
    {
     "name": "stdout",
     "output_type": "stream",
     "text": [
      "outputs from interpreter invocations\n",
      "[ 126 -128 -128 -127 -128 -128 -128 -128 -128 -127]\n",
      "[-128  127 -128 -128 -128 -128 -128 -128 -128 -128]\n",
      "[-128 -128  127 -128 -128 -128 -128 -128 -128 -128]\n",
      "[-128 -128 -123  119 -128 -128 -128 -128 -125 -128]\n",
      "[-128 -128 -128 -128  127 -128 -128 -128 -128 -128]\n",
      "[-128 -128 -128 -128 -128  127 -128 -128 -128 -128]\n",
      "[-126 -128 -128 -128 -128 -128  126 -128 -128 -128]\n",
      "[-128 -128 -128 -128 -128 -128 -128  127 -128 -128]\n",
      "[-128 -128 -128 -128 -128 -128 -128 -128  127 -128]\n",
      "[-128 -128 -127 -125 -128 -128 -128 -128 -128  124]\n"
     ]
    }
   ],
   "source": [
    "print(\"outputs from interpreter invocations\")\n",
    "for img in range(10):\n",
    "    print(output_data[img])"
   ]
  },
  {
   "cell_type": "markdown",
   "id": "d3267291-8953-4c0d-a659-7d2d3e863d66",
   "metadata": {},
   "source": [
    "Dequantize the results"
   ]
  },
  {
   "cell_type": "code",
   "execution_count": 26,
   "id": "12f17095-5f77-4835-aa43-e711eaf2068d",
   "metadata": {},
   "outputs": [
    {
     "name": "stdout",
     "output_type": "stream",
     "text": [
      "0.992188 0.000000 0.000000 0.003906 0.000000 0.000000 0.000000 0.000000 0.000000 0.003906 \n",
      "0.000000 0.996094 0.000000 0.000000 0.000000 0.000000 0.000000 0.000000 0.000000 0.000000 \n",
      "0.000000 0.000000 0.996094 0.000000 0.000000 0.000000 0.000000 0.000000 0.000000 0.000000 \n",
      "0.000000 0.000000 0.019531 0.964844 0.000000 0.000000 0.000000 0.000000 0.011719 0.000000 \n",
      "0.000000 0.000000 0.000000 0.000000 0.996094 0.000000 0.000000 0.000000 0.000000 0.000000 \n",
      "0.000000 0.000000 0.000000 0.000000 0.000000 0.996094 0.000000 0.000000 0.000000 0.000000 \n",
      "0.007812 0.000000 0.000000 0.000000 0.000000 0.000000 0.992188 0.000000 0.000000 0.000000 \n",
      "0.000000 0.000000 0.000000 0.000000 0.000000 0.000000 0.000000 0.996094 0.000000 0.000000 \n",
      "0.000000 0.000000 0.000000 0.000000 0.000000 0.000000 0.000000 0.000000 0.996094 0.000000 \n",
      "0.000000 0.000000 0.003906 0.011719 0.000000 0.000000 0.000000 0.000000 0.000000 0.984375 \n"
     ]
    }
   ],
   "source": [
    "output_quantization_parameters = output_details[\"quantization_parameters\"]\n",
    "output_scale, output_zero_point = output_quantization_parameters[\"scales\"][0], output_quantization_parameters[\"zero_points\"][0]\n",
    "probability = [None]*10\n",
    "for img in range(10):\n",
    "    probability[img] = output_scale * (output_data[img].astype(\"float\") - output_zero_point)\n",
    "    for i in range(10):\n",
    "        print(\"{:8.6f}\".format(probability[img][i]), end=\" \")\n",
    "    print()"
   ]
  },
  {
   "cell_type": "code",
   "execution_count": 27,
   "id": "8a9c81c6-7a71-4488-abea-2fb517ade7c2",
   "metadata": {},
   "outputs": [
    {
     "name": "stdout",
     "output_type": "stream",
     "text": [
      "Digit found:  0\n",
      "Digit found:  1\n",
      "Digit found:  2\n",
      "Digit found:  3\n",
      "Digit found:  4\n",
      "Digit found:  5\n",
      "Digit found:  6\n",
      "Digit found:  7\n",
      "Digit found:  8\n",
      "Digit found:  9\n"
     ]
    }
   ],
   "source": [
    "for img in range(10):\n",
    "    print(\"Digit found: \", probability[img].argmax())"
   ]
  },
  {
   "cell_type": "code",
   "execution_count": 28,
   "id": "8a2b46a6-3eee-4277-a68b-399b846052d9",
   "metadata": {},
   "outputs": [
    {
     "name": "stdout",
     "output_type": "stream",
     "text": [
      "Total of probabilities: {:f} 1.0\n",
      "Total of probabilities: {:f} 0.99609375\n",
      "Total of probabilities: {:f} 0.99609375\n",
      "Total of probabilities: {:f} 0.99609375\n",
      "Total of probabilities: {:f} 0.99609375\n",
      "Total of probabilities: {:f} 0.99609375\n",
      "Total of probabilities: {:f} 1.0\n",
      "Total of probabilities: {:f} 0.99609375\n",
      "Total of probabilities: {:f} 0.99609375\n",
      "Total of probabilities: {:f} 1.0\n"
     ]
    }
   ],
   "source": [
    "for img in range(10):\n",
    "    sum = 0\n",
    "    for i in range(10):\n",
    "        sum += probability[img][i]\n",
    "    print(\"Total of probabilities: {:f}\",sum)"
   ]
  },
  {
   "cell_type": "code",
   "execution_count": 41,
   "id": "3619e930-287f-4a75-bf82-da0838ea2ac6",
   "metadata": {},
   "outputs": [
    {
     "name": "stdout",
     "output_type": "stream",
     "text": [
      "0.996078 0.000000 0.000000 0.003922 0.000000 0.000000 0.000000 0.000000 0.000000 0.003922 \n",
      "0.000000 1.000000 0.000000 0.000000 0.000000 0.000000 0.000000 0.000000 0.000000 0.000000 \n",
      "0.000000 0.000000 1.000000 0.000000 0.000000 0.000000 0.000000 0.000000 0.000000 0.000000 \n",
      "0.000000 0.000000 0.019608 0.968627 0.000000 0.000000 0.000000 0.000000 0.011765 0.000000 \n",
      "0.000000 0.000000 0.000000 0.000000 1.000000 0.000000 0.000000 0.000000 0.000000 0.000000 \n",
      "0.000000 0.000000 0.000000 0.000000 0.000000 1.000000 0.000000 0.000000 0.000000 0.000000 \n",
      "0.007843 0.000000 0.000000 0.000000 0.000000 0.000000 0.996078 0.000000 0.000000 0.000000 \n",
      "0.000000 0.000000 0.000000 0.000000 0.000000 0.000000 0.000000 1.000000 0.000000 0.000000 \n",
      "0.000000 0.000000 0.000000 0.000000 0.000000 0.000000 0.000000 0.000000 1.000000 0.000000 \n",
      "0.000000 0.000000 0.003922 0.011765 0.000000 0.000000 0.000000 0.000000 0.000000 0.988235 \n"
     ]
    }
   ],
   "source": [
    "for img in range(10):\n",
    "    probability[img] = (output_data[img] + 128) / 255\n",
    "    for j in range(10):\n",
    "        print(\"{:8.6f}\".format(probability[img][j]), end=\" \")\n",
    "    print(\"\")        "
   ]
  },
  {
   "cell_type": "code",
   "execution_count": 42,
   "id": "00925586-7130-40d6-98da-464a6799b523",
   "metadata": {},
   "outputs": [
    {
     "name": "stdout",
     "output_type": "stream",
     "text": [
      "Total of probabilities: 1.003922\n",
      "Total of probabilities: 1.000000\n",
      "Total of probabilities: 1.000000\n",
      "Total of probabilities: 1.000000\n",
      "Total of probabilities: 1.000000\n",
      "Total of probabilities: 1.000000\n",
      "Total of probabilities: 1.003922\n",
      "Total of probabilities: 1.000000\n",
      "Total of probabilities: 1.000000\n",
      "Total of probabilities: 1.003922\n"
     ]
    }
   ],
   "source": [
    "for img in range(10):\n",
    "    sum = 0\n",
    "    for i in range(10):\n",
    "        sum += probability[img][i]\n",
    "    print(\"Total of probabilities: {:f}\".format(sum))"
   ]
  },
  {
   "cell_type": "markdown",
   "id": "61cfd2c0-ba9d-48ea-b632-86c6d1451d58",
   "metadata": {},
   "source": [
    "Plot the confusion matrix"
   ]
  },
  {
   "cell_type": "code",
   "execution_count": 40,
   "id": "fa5e5839-9413-4798-b309-adf55d80963a",
   "metadata": {},
   "outputs": [
    {
     "data": {
      "text/plain": [
       "<matplotlib.image.AxesImage at 0x7f5460240250>"
      ]
     },
     "execution_count": 40,
     "metadata": {},
     "output_type": "execute_result"
    },
    {
     "data": {
      "image/png": "[encoded data removed]",
      "text/plain": [
       "<Figure size 480x480 with 1 Axes>"
      ]
     },
     "metadata": {},
     "output_type": "display_data"
    }
   ],
   "source": [
    "from matplotlib import colors as colors\n",
    "plt.matshow(probability,norm=colors.LogNorm(0,1), cmap=\"viridis\")"
   ]
  },
  {
   "cell_type": "code",
   "execution_count": null,
   "id": "c96e4d19-8814-4521-b91f-9498ec29ace0",
   "metadata": {},
   "outputs": [],
   "source": []
  }
 ],
 "metadata": {
  "kernelspec": {
   "display_name": "AI",
   "language": "python",
   "name": "ai"
  },
  "language_info": {
   "codemirror_mode": {
    "name": "ipython",
    "version": 3
   },
   "file_extension": ".py",
   "mimetype": "text/x-python",
   "name": "python",
   "nbconvert_exporter": "python",
   "pygments_lexer": "ipython3",
   "version": "3.10.12"
  }
 },
 "nbformat": 4,
 "nbformat_minor": 5
}
