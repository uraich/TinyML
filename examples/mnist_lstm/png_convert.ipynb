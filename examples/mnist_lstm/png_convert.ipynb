{
 "cells": [
  {
   "cell_type": "markdown",
   "id": "e67a77c5-5e5d-4875-b1fd-08b2d9357a70",
   "metadata": {},
   "source": [
    "# Convert the sample png files to binary files and .cc and .h source files\n",
    "When running the inference on the target micro-controller we need the sample png files as C++ code\n",
    "For this to work, the initial pixel values, which are of float32 format (0..1) are converted into uint8 format (0..255)\n",
    "Then the source files are created.\n",
    "In the case of running the inference on MicroPython, we have a file system where the images can be stored. In this case we produce\n",
    "binary files again in uint8 format in order to save space in the micro-controller flash."
   ]
  },
  {
   "cell_type": "markdown",
   "id": "11eb0df2-626e-450b-ad91-e1fddbd67d45",
   "metadata": {},
   "source": [
    "import the necessary libraries"
   ]
  },
  {
   "cell_type": "code",
   "execution_count": 14,
   "id": "f4520915-e2eb-430a-a5c1-075ddbe65a33",
   "metadata": {},
   "outputs": [],
   "source": [
    "import os\n",
    "import numpy as np\n",
    "from PIL import Image\n",
    "import matplotlib.pyplot as plt"
   ]
  },
  {
   "cell_type": "markdown",
   "id": "6e5316fb-3a83-4955-b0d7-8df09046f63e",
   "metadata": {},
   "source": [
    "Read an image from the samples directory"
   ]
  },
  {
   "cell_type": "code",
   "execution_count": 15,
   "id": "97cbbdd5-07ea-454b-a0bd-4b1412ba4a05",
   "metadata": {},
   "outputs": [],
   "source": [
    "def read_img(img_path):\n",
    "  \"\"\"Read MNIST image\n",
    "\n",
    "  Args:\n",
    "      img_path (str): path to a MNIST image\n",
    "\n",
    "  Returns:\n",
    "      np.array : image in the correct np.array format\n",
    "  \"\"\"\n",
    "  image = Image.open(img_path)\n",
    "  data = np.asarray(image, dtype=np.float32)\n",
    "  if data.shape not in [(28, 28), (28, 28, 1)]:\n",
    "    raise ValueError(\n",
    "        \"Invalid input image shape (MNIST image should have shape 28*28 or 28*28*1)\"\n",
    "    )\n",
    "  # Normalize the image if necessary\n",
    "  if data.max() > 1:\n",
    "    data = data / 255.0\n",
    "  # Model inference requires batch size one\n",
    "  data = data.reshape((1, 28, 28))\n",
    "  return data  "
   ]
  },
  {
   "cell_type": "markdown",
   "id": "f364ccfa-4800-43d5-b812-733279a05cfa",
   "metadata": {},
   "source": [
    "Try out the read_img function. \n",
    "Read all 10 images and plot them"
   ]
  },
  {
   "cell_type": "code",
   "execution_count": 16,
   "id": "87a9548c-daf1-49aa-aa54-31c1d2323824",
   "metadata": {},
   "outputs": [
    {
     "name": "stdout",
     "output_type": "stream",
     "text": [
      "read image from file samples/sample0.png\n",
      "read image from file samples/sample1.png\n",
      "read image from file samples/sample2.png\n",
      "read image from file samples/sample3.png\n",
      "read image from file samples/sample4.png\n",
      "read image from file samples/sample5.png\n",
      "read image from file samples/sample6.png\n",
      "read image from file samples/sample7.png\n",
      "read image from file samples/sample8.png\n",
      "read image from file samples/sample9.png\n"
     ]
    }
   ],
   "source": [
    "pixel_data = [None]*10 # read all 10 digit images\n",
    "for img in range(10):\n",
    "    filename = \"samples/sample{:d}.png\".format(img)\n",
    "    pixel_data[img] = read_img(filename)\n",
    "    print(\"read image from file \" + filename)"
   ]
  },
  {
   "cell_type": "code",
   "execution_count": 17,
   "id": "25a57c3a-53fe-4520-96cf-fcb9491a4d06",
   "metadata": {},
   "outputs": [
    {
     "name": "stdout",
     "output_type": "stream",
     "text": [
      "shape:  (28, 28)\n",
      "dtype:  float32\n",
      "minimum value:  0.0  maximum value:  1.0\n"
     ]
    }
   ],
   "source": [
    "print(\"shape: \",pixel_data[0][0].shape)\n",
    "print(\"dtype: \",pixel_data[0][0][0].dtype)\n",
    "print(\"minimum value: \",pixel_data[0].min(),\" maximum value: \",pixel_data[0].max())"
   ]
  },
  {
   "cell_type": "code",
   "execution_count": 18,
   "id": "647a4ae6-edfd-470f-934f-1a66f3eeea77",
   "metadata": {},
   "outputs": [
    {
     "data": {
      "text/plain": [
       "<matplotlib.image.AxesImage at 0x7fcbd56f7130>"
      ]
     },
     "execution_count": 18,
     "metadata": {},
     "output_type": "execute_result"
    },
    {
     "data": {
      "image/png": "[encoded data removed]",
      "text/plain": [
       "<Figure size 640x480 with 1 Axes>"
      ]
     },
     "metadata": {},
     "output_type": "display_data"
    }
   ],
   "source": [
    "plt.set_cmap('viridis') # this is the default color map\n",
    "plt.imshow(pixel_data[5][0])"
   ]
  },
  {
   "cell_type": "code",
   "execution_count": 19,
   "id": "a4c738fa-8e33-4970-b2d3-ba9b286b0f9f",
   "metadata": {},
   "outputs": [
    {
     "data": {
      "text/plain": [
       "<Figure size 640x480 with 0 Axes>"
      ]
     },
     "metadata": {},
     "output_type": "display_data"
    },
    {
     "data": {
      "image/png": "[encoded data removed]",
      "text/plain": [
       "<Figure size 640x480 with 10 Axes>"
      ]
     },
     "metadata": {},
     "output_type": "display_data"
    }
   ],
   "source": [
    "plt.set_cmap('Greys')\n",
    "fig, axs = plt.subplots(2,5)\n",
    "for i in range(2):\n",
    "    for j in range(5):\n",
    "        axs[i,j].axis('off')\n",
    "        axs[i,j].imshow(pixel_data[5*i+j][0])"
   ]
  },
  {
   "cell_type": "code",
   "execution_count": 20,
   "id": "f10a3881-274b-43f5-90fe-ad5992f8f38d",
   "metadata": {},
   "outputs": [],
   "source": [
    "import tflite_runtime.interpreter as tflite\n",
    "interpreter = tflite.Interpreter(model_path=\"models/number_model_quant.tflite\")\n",
    "interpreter.allocate_tensors() # Needed before execution"
   ]
  },
  {
   "cell_type": "markdown",
   "id": "5af165cf-9226-453e-b976-3b96b0aaa35b",
   "metadata": {},
   "source": [
    "In order to save these data to files it is reasonable to convert them to byte values (saves a factor 4 in space)"
   ]
  },
  {
   "cell_type": "markdown",
   "id": "06e64a0e-1554-487b-a07a-288323a911e4",
   "metadata": {},
   "source": [
    "Get the quantization parameters"
   ]
  },
  {
   "cell_type": "code",
   "execution_count": 25,
   "id": "c1b76b8e-28e1-4fd8-8911-418e8f1b767a",
   "metadata": {},
   "outputs": [
    {
     "name": "stdout",
     "output_type": "stream",
     "text": [
      "input scale: 0.003922, input_zero_point: -128\n",
      "input data type:  <class 'numpy.int8'>\n"
     ]
    }
   ],
   "source": [
    "input_details = interpreter.get_input_details()[0]\n",
    "input_quantization_parameters = input_details[\"quantization_parameters\"]\n",
    "input_scale, input_zero_point = input_quantization_parameters[\"scales\"][0], input_quantization_parameters[\"zero_points\"][0]\n",
    "print(\"input scale: {:f}, input_zero_point: {:d}\".format(input_scale,input_zero_point))\n",
    "data_type = input_details[\"dtype\"]\n",
    "print(\"input data type: \",data_type)"
   ]
  },
  {
   "cell_type": "code",
   "execution_count": 26,
   "id": "3ff54f10-7e50-481c-ad2c-09cc9fb4eaef",
   "metadata": {},
   "outputs": [],
   "source": [
    "def writeToBinFile(digit_data,filename):\n",
    "    # the digit data come in as a float32 numpy array of shape (28,28)\n",
    "    if digit_data.shape != (28,28):\n",
    "        print(\"invalid_shape\")\n",
    "        return\n",
    "    if digit_data[0][0].dtype != np.float32:\n",
    "        print(\"digit data should have dtype np.float32\")\n",
    "        return\n",
    "    # print(\"digit_data ok\")\n",
    "    # convert 0..1 to 0..255\n",
    "    int8_digit_data = (digit_data / input_scale + input_zero_point).astype(data_type)\n",
    "    with open(filename,\"wb\") as pixel_file:\n",
    "        pixel_file.write(int8_digit_data)"
   ]
  },
  {
   "cell_type": "markdown",
   "id": "9aa4a79b-c440-41d9-9499-8c4494f3737e",
   "metadata": {},
   "source": [
    "Convert all 10 digit files to int8 format and save them to the bin_samples folder"
   ]
  },
  {
   "cell_type": "code",
   "execution_count": 29,
   "id": "121498c0-461d-48d8-b82a-43153c774031",
   "metadata": {},
   "outputs": [],
   "source": [
    "try:\n",
    "    os.mkdir(\"bin_samples\")\n",
    "except:\n",
    "    pass\n",
    "for img in range(10):\n",
    "    filename=\"bin_samples/sample{:d}.bin\".format(img)\n",
    "    writeToBinFile(pixel_data[img].reshape(28,28),filename)"
   ]
  },
  {
   "cell_type": "markdown",
   "id": "e62581b8-58d6-473a-be56-62cb8f256b0b",
   "metadata": {},
   "source": [
    "Write the pixels to a binary file\n",
    "\n",
    "The files are found in the bin_samples folder. You can get their contents with _ghex_"
   ]
  },
  {
   "cell_type": "markdown",
   "id": "75dc2bf1-e8da-49d6-a12f-402e7ec41b3a",
   "metadata": {},
   "source": [
    "## Convert .png file to a .cc and a .h file\n",
    "Data are stored in uint8 format 0..255 converted from float32 format 0..1"
   ]
  },
  {
   "cell_type": "code",
   "execution_count": 30,
   "id": "be83fff0-cd36-4a9c-96aa-0071222c2878",
   "metadata": {},
   "outputs": [
    {
     "name": "stderr",
     "output_type": "stream",
     "text": [
      "2023-09-30 18:50:45.027718: I tensorflow/core/platform/cpu_feature_guard.cc:182] This TensorFlow binary is optimized to use available CPU instructions in performance-critical operations.\n",
      "To enable the following instructions: AVX2 FMA, in other operations, rebuild TensorFlow with the appropriate compiler flags.\n"
     ]
    },
    {
     "name": "stdout",
     "output_type": "stream",
     "text": [
      "input scale: 0.003922, input_zero_point: -128\n"
     ]
    }
   ],
   "source": [
    "import tflite_runtime.interpreter as tflite\n",
    "import tensorflow as tf\n",
    "interpreter = tflite.Interpreter(model_path=\"models/number_model_quant.tflite\")\n",
    "interpreter.allocate_tensors()\n",
    "input_details = interpreter.get_input_details()[0]\n",
    "input_quantization_parameters = input_details[\"quantization_parameters\"]\n",
    "input_scale, input_zero_point = input_quantization_parameters[\"scales\"][0], input_quantization_parameters[\"zero_points\"][0]\n",
    "print(\"input scale: {:f}, input_zero_point: {:d}\".format(input_scale,input_zero_point))"
   ]
  },
  {
   "cell_type": "code",
   "execution_count": 31,
   "id": "cbcbabb5-0c5e-43c7-baf4-5c563188aff9",
   "metadata": {},
   "outputs": [],
   "source": [
    "def convert_png_to_cc(img_path,out_dir):\n",
    "    image = Image.open(img_path)\n",
    "    data = np.asarray(image, dtype=np.float32)\n",
    "    if data.shape not in [(28, 28), (28, 28, 1)]:\n",
    "        raise ValueError(\n",
    "        \"Invalid input image shape (MNIST image should have shape 28*28 or 28*28*1)\"\n",
    "    )\n",
    "    # Normalize the image if necessary\n",
    "    if data.max() > 1:\n",
    "        data = data / 255.0\n",
    "    data = data.reshape((28, 28))\n",
    "    # print(data[0][0].dtype)\n",
    "    # dequantize the result\n",
    "\n",
    "    data = (data / input_scale + input_zero_point).astype(data_type)\n",
    "\n",
    "    # print(data[0][0].dtype)\n",
    "    # extract the filename without preceeding path\n",
    "    filename = img_path.split('/')\n",
    "    filename = filename[len(filename)-1]\n",
    "    filename = os.path.splitext(filename)[0]\n",
    "    # print(filename)\n",
    "    cc_filename = out_dir + \"/\" + filename + \"_data.cc\"\n",
    "    h_filename = out_dir + \"/\" + filename + \"_data.h\"\n",
    "    # print(cc_filename, h_filename)\n",
    "    # create the output directory if it does not exist yet\n",
    "    try:\n",
    "        os.mkdir(out_dir)\n",
    "    except:\n",
    "        pass\n",
    "    # fill the .cc file\n",
    "    cc_file = open(cc_filename,\"w\")\n",
    "    cc_file.write(\"#include <cstdint>\\n\\n\")\n",
    "    cc_file.write('#include \"' + h_filename  + \"\\n\\n\")\n",
    "    cc_file.write(\"const insigned int g_\" + filename + \"_img_data_size=\" + str(data.size) + \";\\n\")\n",
    "    cc_file.write(\"alignas(16) const unsigned char g_\" + filename + \"_img_data[] = {\\n\")\n",
    "    data= data.reshape((data.size))\n",
    "    # print(data.shape)\n",
    "    for pixel in data[:data.size-1]:\n",
    "        cc_file.write(\"0x{:02x},\".format(pixel))\n",
    "    cc_file.write(\"0x{:02x}\".format(data[data.size-1]) + \"};\")\n",
    "    cc_file.close()\n",
    "    # Now write the corresponding .h file\n",
    "    h_file = open(h_filename,\"w\")\n",
    "    h_file.write(\"#include <cstdint>\\n\\n\")\n",
    "    h_file.write(\"extern const unsigned int g_\" + filename + \"_img_data_size;\\n\")\n",
    "    h_file.write(\"extern const unsigned char g_\" + filename + \"_img_data;\\n\")\n",
    "    h_file.close()\n",
    "    # print(cc_filename + \" and \" + h_filename + \" successfully written\")"
   ]
  },
  {
   "cell_type": "markdown",
   "id": "0fdca758-18b5-4341-b25c-3e760b14ff0f",
   "metadata": {},
   "source": [
    "Now generate the .cc and .h files. You can find it in the C++_code folder"
   ]
  },
  {
   "cell_type": "code",
   "execution_count": 32,
   "id": "4431b6e3-15b2-48ab-9d7d-09ad77d3a616",
   "metadata": {},
   "outputs": [],
   "source": [
    "for digit in range(10):\n",
    "    sample_filename = \"samples/sample{:d}.png\".format(digit)\n",
    "    convert_png_to_cc(sample_filename,\"C++_code\")"
   ]
  },
  {
   "cell_type": "markdown",
   "id": "48c6bd1c-2445-4147-836d-443c23495e81",
   "metadata": {},
   "source": [
    "Since this is C++ source code, you can inspect it with your favorite editor."
   ]
  },
  {
   "cell_type": "code",
   "execution_count": null,
   "id": "9cb08e52-5ad9-4e79-a534-3a00b0f8c996",
   "metadata": {},
   "outputs": [],
   "source": []
  }
 ],
 "metadata": {
  "kernelspec": {
   "display_name": "AI",
   "language": "python",
   "name": "ai"
  },
  "language_info": {
   "codemirror_mode": {
    "name": "ipython",
    "version": 3
   },
   "file_extension": ".py",
   "mimetype": "text/x-python",
   "name": "python",
   "nbconvert_exporter": "python",
   "pygments_lexer": "ipython3",
   "version": "3.10.12"
  }
 },
 "nbformat": 4,
 "nbformat_minor": 5
}
