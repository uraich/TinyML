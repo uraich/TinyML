{
 "cells": [
  {
   "cell_type": "markdown",
   "id": "79c7b0c7-d549-489b-8c53-65f734b738f1",
   "metadata": {},
   "source": [
    "# Evaluate the mnist model using 10 png test files\n",
    "import the needed modules"
   ]
  },
  {
   "cell_type": "code",
   "execution_count": 1,
   "id": "8bdf205b-e9aa-492f-b879-25e940c71010",
   "metadata": {},
   "outputs": [],
   "source": [
    "import os\n",
    "import numpy as np\n",
    "from PIL import Image\n",
    "import matplotlib.pyplot as plt"
   ]
  },
  {
   "cell_type": "code",
   "execution_count": 2,
   "id": "17a055e6-75d4-4b59-8d19-445aac633321",
   "metadata": {},
   "outputs": [
    {
     "name": "stderr",
     "output_type": "stream",
     "text": [
      "2023-10-11 22:54:38.054454: I tensorflow/core/platform/cpu_feature_guard.cc:182] This TensorFlow binary is optimized to use available CPU instructions in performance-critical operations.\n",
      "To enable the following instructions: AVX2 FMA, in other operations, rebuild TensorFlow with the appropriate compiler flags.\n"
     ]
    }
   ],
   "source": [
    "import tflite_runtime.interpreter as tflite\n",
    "import tensorflow as tf"
   ]
  },
  {
   "cell_type": "code",
   "execution_count": 3,
   "id": "18881754-a872-4680-b03b-a0922ef0cc58",
   "metadata": {},
   "outputs": [
    {
     "name": "stderr",
     "output_type": "stream",
     "text": [
      "INFO: Created TensorFlow Lite XNNPACK delegate for CPU.\n"
     ]
    }
   ],
   "source": [
    "interpreter = tflite.Interpreter(model_path=\"models/number_model_quant.tflite\")\n",
    "interpreter.allocate_tensors() # Needed before execution"
   ]
  },
  {
   "cell_type": "code",
   "execution_count": 4,
   "id": "8d707d5f-0ab9-4bb7-81e9-b413dbbcbbc3",
   "metadata": {},
   "outputs": [],
   "source": [
    "def read_img(img_path):\n",
    "  \"\"\"Read MNIST image\n",
    "\n",
    "  Args:\n",
    "      img_path (str): path to a MNIST image\n",
    "\n",
    "  Returns:\n",
    "      np.array : image in the correct np.array format\n",
    "  \"\"\"\n",
    "  image = Image.open(img_path)\n",
    "  data = np.asarray(image, dtype=np.float32)\n",
    "  if data.shape not in [(28, 28), (28, 28, 1)]:\n",
    "    raise ValueError(\n",
    "        \"Invalid input image shape (MNIST image should have shape 28*28 or 28*28*1)\"\n",
    "    )\n",
    "  # Normalize the image if necessary\n",
    "  if data.max() > 1:\n",
    "    data = data / 255.0\n",
    "  # Model inference requires batch size one\n",
    "  data = data.reshape((1, 28, 28))\n",
    "  return data\n"
   ]
  },
  {
   "cell_type": "code",
   "execution_count": 5,
   "id": "228b1c4b-e45b-43fe-917a-defede6e1e79",
   "metadata": {},
   "outputs": [
    {
     "name": "stdout",
     "output_type": "stream",
     "text": [
      "{'name': 'serving_default_fixed_input:0', 'index': 0, 'shape': array([ 1, 28, 28], dtype=int32), 'shape_signature': array([ 1, 28, 28], dtype=int32), 'dtype': <class 'numpy.int8'>, 'quantization': (0.003921568859368563, -128), 'quantization_parameters': {'scales': array([0.00392157], dtype=float32), 'zero_points': array([-128], dtype=int32), 'quantized_dimension': 0}, 'sparsity_parameters': {}}\n"
     ]
    }
   ],
   "source": [
    "input_details = interpreter.get_input_details()[0]\n",
    "print(input_details)"
   ]
  },
  {
   "cell_type": "code",
   "execution_count": 6,
   "id": "3aedf2ad-eb95-4ba7-a68d-0c287b54c068",
   "metadata": {},
   "outputs": [
    {
     "name": "stdout",
     "output_type": "stream",
     "text": [
      "data type:  <class 'numpy.int8'>\n",
      "index:  0\n"
     ]
    }
   ],
   "source": [
    "data_type = input_details[\"dtype\"]\n",
    "print(\"data type: \",data_type)\n",
    "print(\"index: \",input_details[\"index\"])"
   ]
  },
  {
   "cell_type": "code",
   "execution_count": 7,
   "id": "af447794-3200-4c9d-ad0a-20595c810105",
   "metadata": {},
   "outputs": [
    {
     "name": "stdout",
     "output_type": "stream",
     "text": [
      "input scale: 0.003922, input_zero_point: -128\n"
     ]
    }
   ],
   "source": [
    "input_quantization_parameters = input_details[\"quantization_parameters\"]\n",
    "input_scale, input_zero_point = input_quantization_parameters[\"scales\"][0], input_quantization_parameters[\"zero_points\"][0]\n",
    "print(\"input scale: {:f}, input_zero_point: {:d}\".format(input_scale,input_zero_point))"
   ]
  },
  {
   "cell_type": "code",
   "execution_count": 8,
   "id": "5db56e1b-a5a8-4af6-8560-8de803fd4ec1",
   "metadata": {},
   "outputs": [
    {
     "name": "stdout",
     "output_type": "stream",
     "text": [
      "{'name': 'StatefulPartitionedCall:0', 'index': 26, 'shape': array([ 1, 10], dtype=int32), 'shape_signature': array([ 1, 10], dtype=int32), 'dtype': <class 'numpy.int8'>, 'quantization': (0.00390625, -128), 'quantization_parameters': {'scales': array([0.00390625], dtype=float32), 'zero_points': array([-128], dtype=int32), 'quantized_dimension': 0}, 'sparsity_parameters': {}}\n",
      "\n",
      "Output data type:  <class 'numpy.int8'>\n",
      "index:  26\n",
      "shape of output tensor:  [ 1 10]\n"
     ]
    }
   ],
   "source": [
    "output_details = interpreter.get_output_details()[0]\n",
    "print(output_details)\n",
    "print(\"\\nOutput data type: \",output_details[\"dtype\"])\n",
    "print(\"index: \",output_details[\"index\"])\n",
    "print(\"shape of output tensor: \",output_details['shape'])"
   ]
  },
  {
   "cell_type": "code",
   "execution_count": 9,
   "id": "d69e638f-1951-4f21-9ab9-27ef533c8469",
   "metadata": {},
   "outputs": [],
   "source": [
    "data = read_img(\"samples/sample8.png\")"
   ]
  },
  {
   "cell_type": "code",
   "execution_count": 10,
   "id": "9ab61efb-2794-4958-90f6-e33a685140dd",
   "metadata": {},
   "outputs": [
    {
     "name": "stdout",
     "output_type": "stream",
     "text": [
      "min and max in pixel data: 0.000000, 1.000000\n"
     ]
    }
   ],
   "source": [
    "print(\"min and max in pixel data: {:f}, {:f}\".format(data.min(),data.max()))"
   ]
  },
  {
   "cell_type": "code",
   "execution_count": 11,
   "id": "6a6962c8-ff45-4f75-ada0-0587092c14ea",
   "metadata": {},
   "outputs": [
    {
     "name": "stdout",
     "output_type": "stream",
     "text": [
      "min and max in pixel data after quantization: {:f}, {:f} -128 126\n"
     ]
    }
   ],
   "source": [
    "data = (data / input_scale + input_zero_point).astype(data_type)\n",
    "print(\"min and max in pixel data after quantization: {:f}, {:f}\",data.min(),data.max())"
   ]
  },
  {
   "cell_type": "code",
   "execution_count": 12,
   "id": "540a9a2d-4709-4a79-995a-f5be21e45f88",
   "metadata": {},
   "outputs": [],
   "source": [
    "interpreter.set_tensor(input_details['index'],data)"
   ]
  },
  {
   "cell_type": "code",
   "execution_count": 13,
   "id": "70ec0a57-b8d8-4ed0-9d39-ab862cf8d3c2",
   "metadata": {},
   "outputs": [
    {
     "name": "stdout",
     "output_type": "stream",
     "text": [
      "shape of output_data : (10,)\n",
      "[-128 -128 -128 -128 -128 -128 -128 -128  127 -128] <class 'numpy.ndarray'> int8\n"
     ]
    }
   ],
   "source": [
    "interpreter.invoke()\n",
    "output_data = interpreter.get_tensor(output_details['index']).reshape(10,)\n",
    "print(\"shape of output_data :\",output_data.shape)\n",
    "print(output_data, type(output_data),output_data.dtype)"
   ]
  },
  {
   "cell_type": "code",
   "execution_count": 14,
   "id": "a3c33cfd-50c4-4fd9-b00e-9da19d9296ff",
   "metadata": {},
   "outputs": [
    {
     "name": "stdout",
     "output_type": "stream",
     "text": [
      "predicted digit:  8\n",
      "[-128 -128 -128 -128 -128 -128 -128 -128  127 -128]\n",
      "probabilites: \n",
      "0.0000 0.0000 0.0000 0.0000 0.0000 0.0000 0.0000 0.0000 1.0000 0.0000 \n"
     ]
    }
   ],
   "source": [
    "digit = np.argmax(output_data)\n",
    "print(\"predicted digit: \",digit)\n",
    "print(output_data)\n",
    "probs = [None]*10\n",
    "print(\"probabilites: \")\n",
    "for i in range(10):\n",
    "    probs[i] = (output_data[i] + 128) / 255\n",
    "    print(\"{:6.4f}\".format(probs[i]), end=\" \")\n",
    "print(\"\")"
   ]
  },
  {
   "cell_type": "markdown",
   "id": "32889f33-9353-43ee-8cfc-557e0f9bcc2c",
   "metadata": {},
   "source": [
    "To get the probabilities we have to dequantize the result"
   ]
  },
  {
   "cell_type": "code",
   "execution_count": 15,
   "id": "884afc12-6659-4a90-9621-e74c2eb3bd02",
   "metadata": {},
   "outputs": [
    {
     "name": "stdout",
     "output_type": "stream",
     "text": [
      "[0.         0.         0.         0.         0.         0.\n",
      " 0.         0.         0.99609375 0.        ]\n"
     ]
    }
   ],
   "source": [
    "# dequantize the result\n",
    "output_quantization_parameters = output_details[\"quantization_parameters\"]\n",
    "output_scale, output_zero_point = output_quantization_parameters[\"scales\"][0], output_quantization_parameters[\"zero_points\"][0]\n",
    "print(output_scale * (output_data.astype(\"float\") - output_zero_point))"
   ]
  },
  {
   "cell_type": "markdown",
   "id": "b39153d8-d3cd-43b7-80e2-6ce025228701",
   "metadata": {},
   "source": [
    "Now that we know how to invoke the interpreter for a single image and how to interpret the result, we can do this for all\n",
    "10 sample images and calculate the confusion matrix"
   ]
  },
  {
   "cell_type": "code",
   "execution_count": 16,
   "id": "4b4a6c8b-50e8-4f81-96b0-708e7d819e8b",
   "metadata": {},
   "outputs": [
    {
     "name": "stdout",
     "output_type": "stream",
     "text": [
      "input data type:  <class 'numpy.int8'>\n",
      "input scale: 0.003922, input_zero_point: -128\n",
      "output scale: 0.003906, output_zero_point: -128\n",
      "data type of pixels:  float32\n",
      "Data type of pixels passed to the interpreter:  int8\n",
      "min and max pixel values after quantization: -128,126\n",
      "[ 127 -128 -128 -128 -128 -128 -128 -128 -128 -128]\n",
      "[-128  127 -128 -128 -128 -128 -128 -128 -128 -128]\n",
      "[-128 -128  127 -128 -128 -128 -128 -128 -128 -128]\n",
      "[-128 -128 -123  119 -128 -128 -128 -128 -125 -128]\n",
      "[-128 -128 -128 -128  127 -128 -128 -128 -128 -128]\n",
      "[-128 -128 -128 -128 -128  127 -128 -128 -128 -128]\n",
      "[-126 -128 -128 -128 -128 -128  126 -128 -128 -128]\n",
      "[-128 -128 -128 -128 -128 -128 -128  127 -128 -128]\n",
      "[-128 -128 -128 -128 -128 -128 -128 -128  127 -128]\n",
      "[-128 -128 -127 -125 -128 -128 -128 -128 -128  124]\n"
     ]
    }
   ],
   "source": [
    "images = [None] * 10\n",
    "probabilities = [None] * 10\n",
    "raw_output_data = [None] * 10\n",
    "input_details = interpreter.get_input_details()[0]\n",
    "print(\"input data type: \", input_details[\"dtype\"])\n",
    "# get the input quantization parameters and quantize the pixel values\n",
    "input_quantization_parameters = input_details[\"quantization_parameters\"]\n",
    "input_scale, input_zero_point = input_quantization_parameters[\"scales\"][0], input_quantization_parameters[\"zero_points\"][0]\n",
    "print(\"input scale: {:f}, input_zero_point: {:d}\".format(input_scale,input_zero_point))\n",
    "output_quantization_parameters = output_details[\"quantization_parameters\"]\n",
    "output_scale, output_zero_point = output_quantization_parameters[\"scales\"][0], output_quantization_parameters[\"zero_points\"][0]\n",
    "print(\"output scale: {:f}, output_zero_point: {:d}\".format(output_scale,output_zero_point))\n",
    "\n",
    "for img in range(10):\n",
    "    # construct the filename\n",
    "    filename = \"samples/sample{:d}\".format(img) + \".png\"\n",
    "    images[img] = read_img(filename)\n",
    "    if img == 0:\n",
    "        print(\"data type of pixels: \",images[img].dtype)\n",
    "    # quantize the image data\n",
    "    images[img] = (images[img] / input_scale + input_zero_point).astype(data_type)\n",
    "    if img == 0:\n",
    "        print(\"Data type of pixels passed to the interpreter: \",images[img].dtype)\n",
    "    if img == 0:\n",
    "        print(\"min and max pixel values after quantization: {:d},{:d}\".format(images[img].min(),images[img].max()))\n",
    "    # set the input tensor\n",
    "    interpreter.set_tensor(input_details['index'],images[img])\n",
    "    # and invoke inference\n",
    "    interpreter.invoke()\n",
    "    output = interpreter.get_tensor(output_details['index']).reshape(10,)\n",
    "    #if img == 0:\n",
    "    print(output)\n",
    "    # dequantize to get the probabilities\n",
    "    probabilities[img] = output_scale * (output.astype(\"float\") - output_zero_point)\n",
    "    raw_output_data[img] = output"
   ]
  },
  {
   "cell_type": "code",
   "execution_count": 17,
   "id": "7c852fa4-8e2f-48a8-ac9c-c640f864e4be",
   "metadata": {},
   "outputs": [
    {
     "name": "stdout",
     "output_type": "stream",
     "text": [
      "The confusion matrix:\n",
      "0.996094 0.000000 0.000000 0.000000 0.000000 0.000000 0.000000 0.000000 0.000000 0.000000 \n",
      "0.000000 0.996094 0.000000 0.000000 0.000000 0.000000 0.000000 0.000000 0.000000 0.000000 \n",
      "0.000000 0.000000 0.996094 0.000000 0.000000 0.000000 0.000000 0.000000 0.000000 0.000000 \n",
      "0.000000 0.000000 0.019531 0.964844 0.000000 0.000000 0.000000 0.000000 0.011719 0.000000 \n",
      "0.000000 0.000000 0.000000 0.000000 0.996094 0.000000 0.000000 0.000000 0.000000 0.000000 \n",
      "0.000000 0.000000 0.000000 0.000000 0.000000 0.996094 0.000000 0.000000 0.000000 0.000000 \n",
      "0.007812 0.000000 0.000000 0.000000 0.000000 0.000000 0.992188 0.000000 0.000000 0.000000 \n",
      "0.000000 0.000000 0.000000 0.000000 0.000000 0.000000 0.000000 0.996094 0.000000 0.000000 \n",
      "0.000000 0.000000 0.000000 0.000000 0.000000 0.000000 0.000000 0.000000 0.996094 0.000000 \n",
      "0.000000 0.000000 0.003906 0.011719 0.000000 0.000000 0.000000 0.000000 0.000000 0.984375 \n"
     ]
    }
   ],
   "source": [
    "print(\"The confusion matrix:\")\n",
    "for i in range(10):\n",
    "    for j in range(10):\n",
    "        print(\"{:8.6f}\".format(probabilities[i][j]), end=\" \")\n",
    "    print(\"\")"
   ]
  },
  {
   "cell_type": "code",
   "execution_count": 18,
   "id": "304837de-0674-4338-a2d5-46169753b599",
   "metadata": {},
   "outputs": [
    {
     "name": "stdout",
     "output_type": "stream",
     "text": [
      "Digits predicted: 0\n",
      "Digits predicted: 1\n",
      "Digits predicted: 2\n",
      "Digits predicted: 3\n",
      "Digits predicted: 4\n",
      "Digits predicted: 5\n",
      "Digits predicted: 6\n",
      "Digits predicted: 7\n",
      "Digits predicted: 8\n",
      "Digits predicted: 9\n"
     ]
    }
   ],
   "source": [
    "for i in range(10):\n",
    "    print(\"Digits predicted: {:d}\".format(probabilities[i].argmax()))"
   ]
  },
  {
   "cell_type": "markdown",
   "id": "dbca4a65-b224-4d60-8cd3-0d2e763fb93c",
   "metadata": {},
   "source": [
    "Try to improve probabilities"
   ]
  },
  {
   "cell_type": "code",
   "execution_count": null,
   "id": "d87ecd4d-c550-455c-9651-d12a0671dba1",
   "metadata": {},
   "outputs": [],
   "source": [
    "probs = [None]*10\n",
    "for img in range(10):\n",
    "    probs[img] = raw_output_data[img].astype(float)\n",
    "    for i in range(10):        \n",
    "        probs[img][i] = (raw_output_data[img][i] + 128) / 255\n",
    "        print(\"{:8.6f}\".format(probs[img][i]),end=\" \")\n",
    "    print(\"\")"
   ]
  },
  {
   "cell_type": "markdown",
   "id": "8a2e03a5-dd08-4e00-8cac-f303f1ee2173",
   "metadata": {},
   "source": [
    "check if probabilities sum to 1.0"
   ]
  },
  {
   "cell_type": "code",
   "execution_count": null,
   "id": "566f2177-9943-43f8-b73c-288987ada0fc",
   "metadata": {},
   "outputs": [],
   "source": [
    "for img in range(10):\n",
    "    sum = 0\n",
    "    for i in range(10):\n",
    "        sum += probabilities[img][i]\n",
    "    print(\"sum of probabilities for digit {:d}: {:8.2f}\".format(img,sum))"
   ]
  },
  {
   "cell_type": "code",
   "execution_count": null,
   "id": "be7a6816-b52f-4290-a49c-fb329d024a4e",
   "metadata": {},
   "outputs": [],
   "source": [
    "for img in range(10):\n",
    "    sum = 0\n",
    "    for i in range(10):\n",
    "        sum += probs[img][i]\n",
    "    print(\"sum of probabilities for digit {:d} for custom dequantization: {:8.2f}\".format(img,sum))"
   ]
  },
  {
   "cell_type": "markdown",
   "id": "6fe4a039-1cdf-4274-8243-9fe8de39c776",
   "metadata": {},
   "source": [
    "Plot the confusion matrix"
   ]
  },
  {
   "cell_type": "code",
   "execution_count": null,
   "id": "a95cf94f-ef7a-4b32-8517-9f5a0eaf7d15",
   "metadata": {},
   "outputs": [],
   "source": [
    "from matplotlib import colors as colors\n",
    "plt.matshow(probs,norm=colors.LogNorm(0,1), cmap=\"viridis\")"
   ]
  },
  {
   "cell_type": "code",
   "execution_count": null,
   "id": "b25bb404-dfbc-45c7-9f87-c36364bad4e7",
   "metadata": {},
   "outputs": [],
   "source": []
  }
 ],
 "metadata": {
  "kernelspec": {
   "display_name": "AI",
   "language": "python",
   "name": "ai"
  },
  "language_info": {
   "codemirror_mode": {
    "name": "ipython",
    "version": 3
   },
   "file_extension": ".py",
   "mimetype": "text/x-python",
   "name": "python",
   "nbconvert_exporter": "python",
   "pygments_lexer": "ipython3",
   "version": "3.10.12"
  }
 },
 "nbformat": 4,
 "nbformat_minor": 5
}
