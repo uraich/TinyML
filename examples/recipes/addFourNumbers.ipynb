{
 "cells": [
  {
   "cell_type": "markdown",
   "id": "22ff0fe5-8c6e-46f8-ac4f-67560101237e",
   "metadata": {},
   "source": [
    "# Add four numbers"
   ]
  },
  {
   "cell_type": "code",
   "execution_count": 1,
   "id": "55b2a290-58e5-4033-9690-49a70a77e750",
   "metadata": {},
   "outputs": [
    {
     "name": "stderr",
     "output_type": "stream",
     "text": [
      "2023-10-13 17:31:09.934155: I tensorflow/core/platform/cpu_feature_guard.cc:182] This TensorFlow binary is optimized to use available CPU instructions in performance-critical operations.\n",
      "To enable the following instructions: AVX2 FMA, in other operations, rebuild TensorFlow with the appropriate compiler flags.\n"
     ]
    }
   ],
   "source": [
    "import numpy as np\n",
    "import tensorflow as tf"
   ]
  },
  {
   "cell_type": "code",
   "execution_count": 2,
   "id": "78e0fc00-7e7b-41dc-bccc-6e73e146cd51",
   "metadata": {},
   "outputs": [],
   "source": [
    "\"\"\"\n",
    "Generates a simple TfLite model that adds 4 numbers.\n",
    "\n",
    "Basic Usage:\n",
    "\n",
    "  model = generate_model(False)\n",
    "\n",
    "Usage where you want model written to file:\n",
    "\n",
    "  file_path = \"some file path\"\n",
    "  model = generate_model(True, file_path)\n",
    "\"\"\"\n",
    "\n",
    "class AddFourNumbers(tf.Module):\n",
    "  @tf.function(\n",
    "      input_signature=[\n",
    "          tf.TensorSpec(shape=[1], dtype=tf.float32, name=\"a\"),\n",
    "          tf.TensorSpec(shape=[1], dtype=tf.float32, name=\"b\"),\n",
    "          tf.TensorSpec(shape=[1], dtype=tf.float32, name=\"c\"),\n",
    "          tf.TensorSpec(shape=[1], dtype=tf.float32, name=\"d\"),\n",
    "      ]\n",
    "  )\n",
    "  def __call__(self, a, b, c, d):\n",
    "    return a + b + c + d\n"
   ]
  },
  {
   "cell_type": "code",
   "execution_count": 3,
   "id": "40ff5da8-384b-4b35-940b-ed7e76a471e6",
   "metadata": {},
   "outputs": [],
   "source": [
    "def get_model_from_concrete_function():\n",
    "  \"\"\"Accumulator model built via TF concrete functions.\"\"\"\n",
    "  model = AddFourNumbers(\"AddFourNumbers\")\n",
    "  concrete_func = model.__call__.get_concrete_function()\n",
    "  converter = tf.lite.TFLiteConverter.from_concrete_functions(\n",
    "      [concrete_func], model\n",
    "  )\n",
    "  return converter.convert()\n"
   ]
  },
  {
   "cell_type": "code",
   "execution_count": 8,
   "id": "25f35989-6b60-4beb-b42d-e5519980d904",
   "metadata": {},
   "outputs": [],
   "source": [
    "def generate_model(write_file=True, filename=\"models/add.tflite\"):\n",
    "  model = get_model_from_concrete_function()\n",
    "  if write_file:\n",
    "    with open(filename, \"wb\") as f:\n",
    "      f.write(model)\n",
    "  return model"
   ]
  },
  {
   "cell_type": "code",
   "execution_count": 9,
   "id": "2e4e3489-d3c3-461f-b6b7-137b42de6ef7",
   "metadata": {},
   "outputs": [
    {
     "name": "stdout",
     "output_type": "stream",
     "text": [
      "INFO:tensorflow:Assets written to: /tmp/tmpjvh_bl4j/assets\n"
     ]
    },
    {
     "name": "stderr",
     "output_type": "stream",
     "text": [
      "INFO:tensorflow:Assets written to: /tmp/tmpjvh_bl4j/assets\n",
      "2023-10-13 17:37:17.462646: W tensorflow/compiler/mlir/lite/python/tf_tfl_flatbuffer_helpers.cc:364] Ignored output_format.\n",
      "2023-10-13 17:37:17.462673: W tensorflow/compiler/mlir/lite/python/tf_tfl_flatbuffer_helpers.cc:367] Ignored drop_control_dependency.\n",
      "2023-10-13 17:37:17.463120: I tensorflow/cc/saved_model/reader.cc:45] Reading SavedModel from: /tmp/tmpjvh_bl4j\n",
      "2023-10-13 17:37:17.463346: I tensorflow/cc/saved_model/reader.cc:91] Reading meta graph with tags { serve }\n",
      "2023-10-13 17:37:17.463361: I tensorflow/cc/saved_model/reader.cc:132] Reading SavedModel debug info (if present) from: /tmp/tmpjvh_bl4j\n",
      "2023-10-13 17:37:17.463957: I tensorflow/cc/saved_model/loader.cc:231] Restoring SavedModel bundle.\n",
      "2023-10-13 17:37:17.470293: I tensorflow/cc/saved_model/loader.cc:215] Running initialization op on SavedModel bundle at path: /tmp/tmpjvh_bl4j\n",
      "2023-10-13 17:37:17.477198: I tensorflow/cc/saved_model/loader.cc:314] SavedModel load for tags { serve }; Status: success: OK. Took 14078 microseconds.\n",
      "2023-10-13 17:37:17.504012: I tensorflow/compiler/mlir/lite/flatbuffer_export.cc:2138] Estimated count of arithmetic ops: 3  ops, equivalently 1  MACs\n"
     ]
    }
   ],
   "source": [
    "model = generate_model()"
   ]
  },
  {
   "cell_type": "code",
   "execution_count": 11,
   "id": "9557f043-3ae3-4f36-b4d7-9175f63812c6",
   "metadata": {},
   "outputs": [],
   "source": [
    "model_path = \"models/add.tflite\"\n",
    "tflite_interpreter = tf.lite.Interpreter(\n",
    "      model_path=model_path,\n",
    "      experimental_op_resolver_type=tf.lite.experimental.OpResolverType.\n",
    "      BUILTIN_REF,\n",
    "  )\n",
    "tflite_interpreter.allocate_tensors()"
   ]
  },
  {
   "cell_type": "code",
   "execution_count": 12,
   "id": "8e5d9f80-d704-40d1-9237-a229c3a16f4f",
   "metadata": {},
   "outputs": [
    {
     "name": "stdout",
     "output_type": "stream",
     "text": [
      "[{'name': 'serving_default_d:0', 'index': 0, 'shape': array([1], dtype=int32), 'shape_signature': array([1], dtype=int32), 'dtype': <class 'numpy.float32'>, 'quantization': (0.0, 0), 'quantization_parameters': {'scales': array([], dtype=float32), 'zero_points': array([], dtype=int32), 'quantized_dimension': 0}, 'sparsity_parameters': {}}, {'name': 'serving_default_c:0', 'index': 1, 'shape': array([1], dtype=int32), 'shape_signature': array([1], dtype=int32), 'dtype': <class 'numpy.float32'>, 'quantization': (0.0, 0), 'quantization_parameters': {'scales': array([], dtype=float32), 'zero_points': array([], dtype=int32), 'quantized_dimension': 0}, 'sparsity_parameters': {}}, {'name': 'serving_default_b:0', 'index': 2, 'shape': array([1], dtype=int32), 'shape_signature': array([1], dtype=int32), 'dtype': <class 'numpy.float32'>, 'quantization': (0.0, 0), 'quantization_parameters': {'scales': array([], dtype=float32), 'zero_points': array([], dtype=int32), 'quantized_dimension': 0}, 'sparsity_parameters': {}}, {'name': 'serving_default_a:0', 'index': 3, 'shape': array([1], dtype=int32), 'shape_signature': array([1], dtype=int32), 'dtype': <class 'numpy.float32'>, 'quantization': (0.0, 0), 'quantization_parameters': {'scales': array([], dtype=float32), 'zero_points': array([], dtype=int32), 'quantized_dimension': 0}, 'sparsity_parameters': {}}]\n"
     ]
    }
   ],
   "source": [
    "input_details = tflite_interpreter.get_input_details()\n",
    "print(input_details)"
   ]
  },
  {
   "cell_type": "code",
   "execution_count": 14,
   "id": "69be5220-c206-4ef9-89cb-7b2a72e3af88",
   "metadata": {},
   "outputs": [
    {
     "name": "stdout",
     "output_type": "stream",
     "text": [
      "input shape:  [1]\n",
      "input dtype:  <class 'numpy.float32'>\n"
     ]
    }
   ],
   "source": [
    "print(\"input shape: \",input_details[0]['shape'])\n",
    "print(\"input dtype: \",input_details[0]['dtype'])"
   ]
  },
  {
   "cell_type": "code",
   "execution_count": 33,
   "id": "d4f43660-ab35-4bfb-8ec3-bf14d128a316",
   "metadata": {},
   "outputs": [
    {
     "name": "stdout",
     "output_type": "stream",
     "text": [
      "[{'name': 'PartitionedCall:0', 'index': 6, 'shape': array([1], dtype=int32), 'shape_signature': array([1], dtype=int32), 'dtype': <class 'numpy.float32'>, 'quantization': (0.0, 0), 'quantization_parameters': {'scales': array([], dtype=float32), 'zero_points': array([], dtype=int32), 'quantized_dimension': 0}, 'sparsity_parameters': {}}]\n",
      "6\n"
     ]
    }
   ],
   "source": [
    "output_details = tflite_interpreter.get_output_details()\n",
    "print(output_details)\n",
    "print('index :',output_details[0]['index'])"
   ]
  },
  {
   "cell_type": "code",
   "execution_count": 46,
   "id": "7d0656f1-bbef-4dd6-83a8-f37e4edfe676",
   "metadata": {},
   "outputs": [],
   "source": [
    "tflite_interpreter.set_tensor(0,np.array([3],dtype=np.float32))\n",
    "tflite_interpreter.set_tensor(1,np.array([4],dtype=np.float32))\n",
    "tflite_interpreter.set_tensor(2,np.array([3],dtype=np.float32))\n",
    "tflite_interpreter.set_tensor(3,np.array([10],dtype=np.float32))"
   ]
  },
  {
   "cell_type": "code",
   "execution_count": 47,
   "id": "a44639df-5440-401c-8fe1-90f97595fd39",
   "metadata": {},
   "outputs": [],
   "source": [
    "tflite_interpreter.invoke()"
   ]
  },
  {
   "cell_type": "code",
   "execution_count": 48,
   "id": "5a09eff8-c167-4047-8587-49c4078e6de6",
   "metadata": {},
   "outputs": [
    {
     "name": "stdout",
     "output_type": "stream",
     "text": [
      "result:  [20.]\n"
     ]
    }
   ],
   "source": [
    "result = tflite_interpreter.get_tensor(output_details[0]['index'])\n",
    "print(\"result: \",result)"
   ]
  },
  {
   "cell_type": "code",
   "execution_count": null,
   "id": "08db7507-47c3-4327-a637-33c79f5d24c6",
   "metadata": {},
   "outputs": [],
   "source": []
  }
 ],
 "metadata": {
  "kernelspec": {
   "display_name": "AI",
   "language": "python",
   "name": "ai"
  },
  "language_info": {
   "codemirror_mode": {
    "name": "ipython",
    "version": 3
   },
   "file_extension": ".py",
   "mimetype": "text/x-python",
   "name": "python",
   "nbconvert_exporter": "python",
   "pygments_lexer": "ipython3",
   "version": "3.10.12"
  }
 },
 "nbformat": 4,
 "nbformat_minor": 5
}
