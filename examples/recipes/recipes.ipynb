{
 "cells": [
  {
   "cell_type": "markdown",
   "id": "4034ca2c-1486-4204-b9cd-1a56ea166a23",
   "metadata": {},
   "source": [
    "# Simple TF model creation using resource variables "
   ]
  },
  {
   "cell_type": "code",
   "execution_count": 16,
   "id": "7b8b37bd-acf2-4947-9632-e13b503d522e",
   "metadata": {},
   "outputs": [],
   "source": [
    "import numpy as np\n",
    "import tensorflow as tf\n",
    "import os"
   ]
  },
  {
   "cell_type": "code",
   "execution_count": 8,
   "id": "b7a85a7a-d77f-411a-9c03-e683e86c1174",
   "metadata": {},
   "outputs": [],
   "source": [
    "class CompareAndAccumulate(tf.Module):\n",
    "  \"\"\"\n",
    "      Accumulates a given value to the resource variable array (initialized as 0.).\n",
    "      Accumulates add/subtract based on second boolean input.\n",
    "  \"\"\"\n",
    "\n",
    "  def __init__(self, name):\n",
    "    super().__init__(name=name)\n",
    "    self._accum = tf.Variable(\n",
    "        initial_value=np.zeros((100,), dtype=np.float32),\n",
    "        trainable=False,\n",
    "        name=\"Accumulator\",\n",
    "        dtype=tf.float32,\n",
    "        shape=[100],\n",
    "    )\n",
    "\n",
    "  @tf.function(\n",
    "      input_signature=[\n",
    "          tf.TensorSpec(shape=[100], dtype=tf.float32, name=\"accum_val\"),\n",
    "          tf.TensorSpec(shape=[1], dtype=tf.bool, name=\"accumulate_add\"),\n",
    "      ]\n",
    "  )\n",
    "  def __call__(self, accum_val, accumulate_add):\n",
    "    if accumulate_add:\n",
    "      self._accum.assign_add(accum_val)\n",
    "    else:\n",
    "      self._accum.assign_sub(accum_val)\n",
    "    return self._accum.read_value()\n"
   ]
  },
  {
   "cell_type": "code",
   "execution_count": 9,
   "id": "2a854ed1-0863-47eb-927e-7a1a54c243a2",
   "metadata": {},
   "outputs": [],
   "source": [
    "class CompareAndAccumulateKerasLayer(tf.keras.layers.Layer):\n",
    "  \"\"\"Accumulates a given value to the resource variable array (initialized as 0.).\n",
    "\n",
    "  Accumulates add/subtract based on second boolean input.\n",
    "  \"\"\"\n",
    "\n",
    "  def __init__(self, name):\n",
    "    super().__init__(name=name)\n",
    "    self._accum = tf.Variable(\n",
    "        initial_value=[np.zeros((100,), dtype=np.float32)],\n",
    "        trainable=False,\n",
    "        name=\"Accumulator\",\n",
    "        dtype=tf.float32,\n",
    "        shape=(1, 100),\n",
    "    )\n",
    "\n",
    "  def call(self, accum_val, accumulate_add):\n",
    "    @tf.function\n",
    "    def conditional_accumulate(accum_val, accumulate_add):\n",
    "      if accumulate_add:\n",
    "        self._accum.assign_add(accum_val)\n",
    "      else:\n",
    "        self._accum.assign_sub(accum_val)\n",
    "    conditional_accumulate(accum_val, accumulate_add)\n",
    "    return self._accum.read_value()\n"
   ]
  },
  {
   "cell_type": "code",
   "execution_count": 10,
   "id": "a7e9ef69-f1aa-4228-8c8a-cec893e8ec5c",
   "metadata": {},
   "outputs": [
    {
     "name": "stderr",
     "output_type": "stream",
     "text": [
      "2023-10-13 15:16:30.900229: I tensorflow/core/common_runtime/gpu/gpu_device.cc:1639] Created device /job:localhost/replica:0/task:0/device:GPU:0 with 3372 MB memory:  -> device: 0, name: NVIDIA GeForce GTX 950M, pci bus id: 0000:01:00.0, compute capability: 5.0\n"
     ]
    }
   ],
   "source": [
    "model = CompareAndAccumulate(\"CompareAndAccumulate\")"
   ]
  },
  {
   "cell_type": "code",
   "execution_count": 11,
   "id": "3e0a713b-b95a-4674-be83-e40afc0aed6a",
   "metadata": {},
   "outputs": [
    {
     "name": "stdout",
     "output_type": "stream",
     "text": [
      "ConcreteFunction __call__(accum_val, accumulate_add)\n",
      "  Args:\n",
      "    accum_val: float32 Tensor, shape=(100,)\n",
      "    accumulate_add: bool Tensor, shape=(1,)\n",
      "  Returns:\n",
      "    float32 Tensor, shape=(100,)\n"
     ]
    }
   ],
   "source": [
    "concrete_func = model.__call__.get_concrete_function()\n",
    "print(concrete_func)"
   ]
  },
  {
   "cell_type": "code",
   "execution_count": 14,
   "id": "e553436b-e8aa-422f-8e67-19c635dac282",
   "metadata": {},
   "outputs": [],
   "source": [
    "def get_model_from_concrete_function():\n",
    "  \"\"\"Accumulator model built via TF concrete functions.\"\"\"\n",
    "  model = CompareAndAccumulate(\"CompareAndAccumulate\")\n",
    "  concrete_func = model.__call__.get_concrete_function()\n",
    "  converter = tf.lite.TFLiteConverter.from_concrete_functions(\n",
    "      [concrete_func], model\n",
    "  )\n",
    "  return converter.convert()"
   ]
  },
  {
   "cell_type": "code",
   "execution_count": 15,
   "id": "d9e34969-f5bd-4283-bf58-e3f21135aa15",
   "metadata": {},
   "outputs": [],
   "source": [
    "def get_model_from_keras():\n",
    "  \"\"\"Accumulator model built via Keras custom layer.\"\"\"\n",
    "  input_layer_int = tf.keras.layers.Input(\n",
    "      shape=[100], dtype=tf.float32, name=\"accum_val\"\n",
    "  )\n",
    "  input_layer_bool = tf.keras.layers.Input(\n",
    "      shape=[1], dtype=tf.bool, name=\"accumulate_add\"\n",
    "  )\n",
    "  accumulate_out = CompareAndAccumulateKerasLayer(\"CompareAndAccumulate\")(\n",
    "      input_layer_int, input_layer_bool\n",
    "  )\n",
    "\n",
    "  model = tf.keras.models.Model(\n",
    "      inputs=[input_layer_int, input_layer_bool], outputs=accumulate_out\n",
    "  )\n",
    "  converter = tf.lite.TFLiteConverter.from_keras_model(model)\n",
    "  return converter.convert()\n"
   ]
  },
  {
   "cell_type": "markdown",
   "id": "1cf8200f-3a8f-4048-87a5-05042d381d53",
   "metadata": {},
   "source": [
    "Save the tflite model"
   ]
  },
  {
   "cell_type": "code",
   "execution_count": 19,
   "id": "64cfed7f-b2b8-4340-b700-4ad71a89642b",
   "metadata": {},
   "outputs": [
    {
     "name": "stdout",
     "output_type": "stream",
     "text": [
      "Tflite model saved to models/accu.tflite\n"
     ]
    }
   ],
   "source": [
    "if not os.path.exists(\"models\"):\n",
    "    os.makedirs(\"models\")\n",
    "save_path = \"models/accu.tflite\"\n",
    "with open(save_path, \"wb\") as f:\n",
    "    f.write(tflite_model)\n",
    "print(\"Tflite model saved to models/accu.tflite\")"
   ]
  },
  {
   "cell_type": "code",
   "execution_count": null,
   "id": "98e34cbf-257f-4304-a05a-8efce33e71e7",
   "metadata": {},
   "outputs": [],
   "source": []
  }
 ],
 "metadata": {
  "kernelspec": {
   "display_name": "AI",
   "language": "python",
   "name": "ai"
  },
  "language_info": {
   "codemirror_mode": {
    "name": "ipython",
    "version": 3
   },
   "file_extension": ".py",
   "mimetype": "text/x-python",
   "name": "python",
   "nbconvert_exporter": "python",
   "pygments_lexer": "ipython3",
   "version": "3.10.12"
  }
 },
 "nbformat": 4,
 "nbformat_minor": 5
}
