{
 "cells": [
  {
   "cell_type": "markdown",
   "id": "4105e0fc-9680-43b7-8c90-7a317fbc41de",
   "metadata": {},
   "source": [
    "# Read and evaluate the model using the tflm interpreter"
   ]
  },
  {
   "cell_type": "code",
   "execution_count": 1,
   "id": "f8b4d3bb-5883-42d9-a64e-d4984a22adf6",
   "metadata": {},
   "outputs": [],
   "source": [
    "import tflite_runtime.interpreter as tflite\n",
    "import numpy as np"
   ]
  },
  {
   "cell_type": "markdown",
   "id": "5415ebfb-45a9-462e-b1e9-1bb7fb1626c5",
   "metadata": {},
   "source": [
    "Create the tflm interpreter from the model file prepared by recipes.ipynb "
   ]
  },
  {
   "cell_type": "code",
   "execution_count": 3,
   "id": "d4e341d4-3b3a-4bef-90bb-71d0cc90063b",
   "metadata": {},
   "outputs": [
    {
     "name": "stderr",
     "output_type": "stream",
     "text": [
      "INFO: Created TensorFlow Lite XNNPACK delegate for CPU.\n"
     ]
    }
   ],
   "source": [
    "tflm_interpreter = tflite.Interpreter(model_path=\"models/accu.tflite\")\n",
    "tflm_interpreter.allocate_tensors()"
   ]
  },
  {
   "cell_type": "markdown",
   "id": "bd6c70c9-8dec-4888-91e0-6a553a04cd7e",
   "metadata": {},
   "source": [
    "Check the input and output details Note that the ouput tensor has index 6 !"
   ]
  },
  {
   "cell_type": "code",
   "execution_count": 6,
   "id": "7c83d9cd-997c-4cad-8a04-a61eff9a78ee",
   "metadata": {},
   "outputs": [
    {
     "name": "stdout",
     "output_type": "stream",
     "text": [
      "input details:\n",
      "[{'name': 'serving_default_accumulate_add:0', 'index': 0, 'shape': array([1], dtype=int32), 'shape_signature': array([1], dtype=int32), 'dtype': <class 'numpy.bool_'>, 'quantization': (0.0, 0), 'quantization_parameters': {'scales': array([], dtype=float32), 'zero_points': array([], dtype=int32), 'quantized_dimension': 0}, 'sparsity_parameters': {}}, {'name': 'serving_default_accum_val:0', 'index': 1, 'shape': array([100], dtype=int32), 'shape_signature': array([100], dtype=int32), 'dtype': <class 'numpy.float32'>, 'quantization': (0.0, 0), 'quantization_parameters': {'scales': array([], dtype=float32), 'zero_points': array([], dtype=int32), 'quantized_dimension': 0}, 'sparsity_parameters': {}}]\n",
      "\n",
      "First input tensor:  index: 0, shape: [1] and dtype: <class 'numpy.bool_'> : \n",
      "Second input tensor: index: 1, shape: [100] and dtype: <class 'numpy.float32'>: \n"
     ]
    }
   ],
   "source": [
    "print(\"input details:\")\n",
    "print(input_details)\n",
    "print(\"\")\n",
    "print(\"First input tensor:  index: {:d}, shape: {} and dtype: {} : \".format(input_details[0]['index'],\n",
    "                                                                           input_details[0]['shape'],\n",
    "                                                                           input_details[0]['dtype']))\n",
    "print(\"Second input tensor: index: {:d}, shape: {} and dtype: {}: \".format(input_details[1]['index'],\n",
    "                                                                           input_details[1]['shape'],\n",
    "                                                                           input_details[1]['dtype']))"
   ]
  },
  {
   "cell_type": "code",
   "execution_count": 36,
   "id": "a54e84b7-8bdb-4176-a29a-1d29f8c64534",
   "metadata": {},
   "outputs": [
    {
     "name": "stdout",
     "output_type": "stream",
     "text": [
      "[{'name': 'StatefulPartitionedCall:0', 'index': 6, 'shape': array([100], dtype=int32), 'shape_signature': array([100], dtype=int32), 'dtype': <class 'numpy.float32'>, 'quantization': (0.0, 0), 'quantization_parameters': {'scales': array([], dtype=float32), 'zero_points': array([], dtype=int32), 'quantized_dimension': 0}, 'sparsity_parameters': {}}]\n"
     ]
    }
   ],
   "source": [
    "output_details = tflm_interpreter.get_output_details()\n",
    "print(output_details)"
   ]
  },
  {
   "cell_type": "code",
   "execution_count": 7,
   "id": "809a8185-01bf-42fb-aec6-b34d8fb8bf66",
   "metadata": {},
   "outputs": [
    {
     "name": "stdout",
     "output_type": "stream",
     "text": [
      "Ouput tensor: index: 6, shape: [100] and dtype: <class 'numpy.float32'>\n"
     ]
    }
   ],
   "source": [
    "print(\"Ouput tensor: index: {:d}, shape: {} and dtype: {}\".format(output_details[0]['index'],\n",
    "                                                                  output_details[0]['shape'],\n",
    "                                                                  output_details[0]['dtype']))"
   ]
  },
  {
   "cell_type": "code",
   "execution_count": 8,
   "id": "017afd0b-076a-4cd0-89f2-377d5d366db5",
   "metadata": {},
   "outputs": [],
   "source": [
    "tflm_interpreter.set_tensor(0,[True])\n",
    "tflm_interpreter.set_tensor(1,np.full((100,), 15.0, dtype=np.float32))\n",
    "tflm_interpreter.invoke()"
   ]
  },
  {
   "cell_type": "code",
   "execution_count": 10,
   "id": "8d17e46e-8e16-4e86-b540-268bcafaea97",
   "metadata": {},
   "outputs": [
    {
     "name": "stdout",
     "output_type": "stream",
     "text": [
      "[15. 15. 15. 15. 15. 15. 15. 15. 15. 15. 15. 15. 15. 15. 15. 15. 15. 15.\n",
      " 15. 15. 15. 15. 15. 15. 15. 15. 15. 15. 15. 15. 15. 15. 15. 15. 15. 15.\n",
      " 15. 15. 15. 15. 15. 15. 15. 15. 15. 15. 15. 15. 15. 15. 15. 15. 15. 15.\n",
      " 15. 15. 15. 15. 15. 15. 15. 15. 15. 15. 15. 15. 15. 15. 15. 15. 15. 15.\n",
      " 15. 15. 15. 15. 15. 15. 15. 15. 15. 15. 15. 15. 15. 15. 15. 15. 15. 15.\n",
      " 15. 15. 15. 15. 15. 15. 15. 15. 15. 15.]\n"
     ]
    }
   ],
   "source": [
    "tflite_output = tflm_interpreter.get_tensor(output_details[0]['index'])\n",
    "print(tflite_output)"
   ]
  },
  {
   "cell_type": "code",
   "execution_count": 11,
   "id": "51703fef-0d9c-4796-9fa5-666c0adf1dd8",
   "metadata": {},
   "outputs": [],
   "source": [
    "tflm_interpreter.set_tensor(0,[False])\n",
    "tflm_interpreter.set_tensor(1,np.full((100,), 9.0, dtype=np.float32))\n",
    "tflm_interpreter.invoke()"
   ]
  },
  {
   "cell_type": "code",
   "execution_count": 12,
   "id": "f9df65ba-79d3-457f-a6f8-80e5d10b1dc0",
   "metadata": {},
   "outputs": [
    {
     "name": "stdout",
     "output_type": "stream",
     "text": [
      "[6. 6. 6. 6. 6. 6. 6. 6. 6. 6. 6. 6. 6. 6. 6. 6. 6. 6. 6. 6. 6. 6. 6. 6.\n",
      " 6. 6. 6. 6. 6. 6. 6. 6. 6. 6. 6. 6. 6. 6. 6. 6. 6. 6. 6. 6. 6. 6. 6. 6.\n",
      " 6. 6. 6. 6. 6. 6. 6. 6. 6. 6. 6. 6. 6. 6. 6. 6. 6. 6. 6. 6. 6. 6. 6. 6.\n",
      " 6. 6. 6. 6. 6. 6. 6. 6. 6. 6. 6. 6. 6. 6. 6. 6. 6. 6. 6. 6. 6. 6. 6. 6.\n",
      " 6. 6. 6. 6.]\n"
     ]
    }
   ],
   "source": [
    "tflite_output = tflm_interpreter.get_tensor(output_details[0]['index'])\n",
    "print(tflite_output)"
   ]
  },
  {
   "cell_type": "code",
   "execution_count": 13,
   "id": "f9e8c529-2c22-4fb1-96ae-92bb8b860b0c",
   "metadata": {},
   "outputs": [],
   "source": [
    "tflm_interpreter.set_tensor(0,[True])\n",
    "tflm_interpreter.set_tensor(1,np.full((100,), 5.0, dtype=np.float32))\n",
    "tflm_interpreter.invoke()"
   ]
  },
  {
   "cell_type": "code",
   "execution_count": 14,
   "id": "5b1b4a3b-18b8-4554-aaad-cabf21476a9d",
   "metadata": {},
   "outputs": [
    {
     "name": "stdout",
     "output_type": "stream",
     "text": [
      "[11. 11. 11. 11. 11. 11. 11. 11. 11. 11. 11. 11. 11. 11. 11. 11. 11. 11.\n",
      " 11. 11. 11. 11. 11. 11. 11. 11. 11. 11. 11. 11. 11. 11. 11. 11. 11. 11.\n",
      " 11. 11. 11. 11. 11. 11. 11. 11. 11. 11. 11. 11. 11. 11. 11. 11. 11. 11.\n",
      " 11. 11. 11. 11. 11. 11. 11. 11. 11. 11. 11. 11. 11. 11. 11. 11. 11. 11.\n",
      " 11. 11. 11. 11. 11. 11. 11. 11. 11. 11. 11. 11. 11. 11. 11. 11. 11. 11.\n",
      " 11. 11. 11. 11. 11. 11. 11. 11. 11. 11.]\n"
     ]
    }
   ],
   "source": [
    "tflite_output = tflm_interpreter.get_tensor(output_details[0]['index'])\n",
    "print(tflite_output)"
   ]
  },
  {
   "cell_type": "code",
   "execution_count": null,
   "id": "27bfba49-2ecb-477f-af73-9f6b49ef7733",
   "metadata": {},
   "outputs": [],
   "source": []
  },
  {
   "cell_type": "code",
   "execution_count": null,
   "id": "05e8eaa8-d364-42ba-9ffb-2af19476677c",
   "metadata": {},
   "outputs": [],
   "source": []
  }
 ],
 "metadata": {
  "kernelspec": {
   "display_name": "AI",
   "language": "python",
   "name": "ai"
  },
  "language_info": {
   "codemirror_mode": {
    "name": "ipython",
    "version": 3
   },
   "file_extension": ".py",
   "mimetype": "text/x-python",
   "name": "python",
   "nbconvert_exporter": "python",
   "pygments_lexer": "ipython3",
   "version": "3.10.12"
  }
 },
 "nbformat": 4,
 "nbformat_minor": 5
}
