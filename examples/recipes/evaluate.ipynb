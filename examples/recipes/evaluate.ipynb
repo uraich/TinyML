{
 "cells": [
  {
   "cell_type": "markdown",
   "id": "1704e527-e35f-4e51-b5b4-8170897f3aa5",
   "metadata": {},
   "source": [
    "# Read the model and evaluate"
   ]
  },
  {
   "cell_type": "markdown",
   "id": "de7ad15d-1391-417f-b484-6e59d5a26762",
   "metadata": {},
   "source": [
    "import the necessary python modules"
   ]
  },
  {
   "cell_type": "code",
   "execution_count": 3,
   "id": "803c65b8-c905-4c80-b199-3f8d937ef258",
   "metadata": {},
   "outputs": [
    {
     "name": "stderr",
     "output_type": "stream",
     "text": [
      "2023-10-16 14:40:01.944389: I tensorflow/core/platform/cpu_feature_guard.cc:182] This TensorFlow binary is optimized to use available CPU instructions in performance-critical operations.\n",
      "To enable the following instructions: AVX2 FMA, in other operations, rebuild TensorFlow with the appropriate compiler flags.\n"
     ]
    }
   ],
   "source": [
    "import tensorflow as tf\n",
    "import tflite_runtime.interpreter as tflite\n",
    "import numpy as np"
   ]
  },
  {
   "cell_type": "markdown",
   "id": "cf9a6294-bc63-4524-b44c-bbcd36bb3ee5",
   "metadata": {},
   "source": [
    "Create a tflite interpreter using the tflite model prepared by recipes.ipynb"
   ]
  },
  {
   "cell_type": "code",
   "execution_count": 4,
   "id": "c49f6658-082c-4354-8d2e-cf6974eb5119",
   "metadata": {},
   "outputs": [],
   "source": [
    "model_path = \"models/accu.tflite\"\n",
    "tflite_interpreter = tf.lite.Interpreter(\n",
    "      model_path=model_path,\n",
    "      experimental_op_resolver_type=tf.lite.experimental.OpResolverType.\n",
    "      BUILTIN_REF,\n",
    "  )\n",
    "tflite_interpreter.allocate_tensors()"
   ]
  },
  {
   "cell_type": "markdown",
   "id": "f7349e72-0589-4137-bf7d-f10fb1b71933",
   "metadata": {},
   "source": [
    "Check the input and output details\n",
    "Note that the ouput tensor has index 6 !"
   ]
  },
  {
   "cell_type": "code",
   "execution_count": 5,
   "id": "761e9f42-ce6a-43da-9537-002c042d9b67",
   "metadata": {},
   "outputs": [],
   "source": [
    "input_details = tflite_interpreter.get_input_details()\n",
    "output_details = tflite_interpreter.get_output_details()"
   ]
  },
  {
   "cell_type": "code",
   "execution_count": 6,
   "id": "6adf712b-cdf4-4d6a-af59-c6852e55c7f8",
   "metadata": {},
   "outputs": [
    {
     "name": "stdout",
     "output_type": "stream",
     "text": [
      "input details:\n",
      "[{'name': 'serving_default_accumulate_add:0', 'index': 0, 'shape': array([1], dtype=int32), 'shape_signature': array([1], dtype=int32), 'dtype': <class 'numpy.bool_'>, 'quantization': (0.0, 0), 'quantization_parameters': {'scales': array([], dtype=float32), 'zero_points': array([], dtype=int32), 'quantized_dimension': 0}, 'sparsity_parameters': {}}, {'name': 'serving_default_accum_val:0', 'index': 1, 'shape': array([100], dtype=int32), 'shape_signature': array([100], dtype=int32), 'dtype': <class 'numpy.float32'>, 'quantization': (0.0, 0), 'quantization_parameters': {'scales': array([], dtype=float32), 'zero_points': array([], dtype=int32), 'quantized_dimension': 0}, 'sparsity_parameters': {}}]\n",
      "\n",
      "First input tensor:  index: 0, shape: [1] and dtype: <class 'numpy.bool_'> : \n",
      "Second input tensor: index: 1, shape: [100] and dtype: <class 'numpy.float32'>: \n"
     ]
    }
   ],
   "source": [
    "print(\"input details:\")\n",
    "print(input_details)\n",
    "print(\"\")\n",
    "print(\"First input tensor:  index: {:d}, shape: {} and dtype: {} : \".format(input_details[0]['index'],\n",
    "                                                                           input_details[0]['shape'],\n",
    "                                                                           input_details[0]['dtype']))\n",
    "print(\"Second input tensor: index: {:d}, shape: {} and dtype: {}: \".format(input_details[1]['index'],\n",
    "                                                                          input_details[1]['shape'],\n",
    "                                                                          input_details[1]['dtype']))\n",
    "#print(input_details[1]['index'],input_details[1]['shape'],input_details[1]['dtype'])"
   ]
  },
  {
   "cell_type": "code",
   "execution_count": 7,
   "id": "3e0a12a1-b4b9-4397-a241-62123b1a1aa0",
   "metadata": {},
   "outputs": [
    {
     "name": "stdout",
     "output_type": "stream",
     "text": [
      "output details:\n",
      "[{'name': 'StatefulPartitionedCall:0', 'index': 6, 'shape': array([100], dtype=int32), 'shape_signature': array([100], dtype=int32), 'dtype': <class 'numpy.float32'>, 'quantization': (0.0, 0), 'quantization_parameters': {'scales': array([], dtype=float32), 'zero_points': array([], dtype=int32), 'quantized_dimension': 0}, 'sparsity_parameters': {}}]\n"
     ]
    }
   ],
   "source": [
    "print(\"output details:\")\n",
    "print(output_details)"
   ]
  },
  {
   "cell_type": "code",
   "execution_count": 9,
   "id": "4c01a7c0-9715-497d-bccd-3b3d20b65665",
   "metadata": {},
   "outputs": [
    {
     "name": "stdout",
     "output_type": "stream",
     "text": [
      "Ouput tensor: index: 6, shape: [100] and dtype: <class 'numpy.float32'>\n"
     ]
    }
   ],
   "source": [
    "print(\"Ouput tensor: index: {:d}, shape: {} and dtype: {}\".format(output_details[0]['index'],\n",
    "                                                                  output_details[0]['shape'],\n",
    "                                                                  output_details[0]['dtype']))"
   ]
  },
  {
   "cell_type": "markdown",
   "id": "f0cb5512-6435-4033-a4d1-64ba1dfffb8a",
   "metadata": {},
   "source": [
    "Fill the input tensors and invoke the model with an array of 100 elements with value 15\n",
    "These will be added to the accumulator because we set the first input tensor to True, which means adding"
   ]
  },
  {
   "cell_type": "code",
   "execution_count": 10,
   "id": "31ee6551-7548-4e7c-88a5-fd54db4712dc",
   "metadata": {},
   "outputs": [],
   "source": [
    "tflite_interpreter.set_tensor(0,[True])\n",
    "tflite_interpreter.set_tensor(1,np.full((100,), 15.0, dtype=np.float32))\n",
    "tflite_interpreter.invoke()"
   ]
  },
  {
   "cell_type": "code",
   "execution_count": 11,
   "id": "1e4754ec-eb32-4c8f-a1ab-bfb788910cd0",
   "metadata": {},
   "outputs": [
    {
     "data": {
      "text/plain": [
       "array([15., 15., 15., 15., 15., 15., 15., 15., 15., 15., 15., 15., 15.,\n",
       "       15., 15., 15., 15., 15., 15., 15., 15., 15., 15., 15., 15., 15.,\n",
       "       15., 15., 15., 15., 15., 15., 15., 15., 15., 15., 15., 15., 15.,\n",
       "       15., 15., 15., 15., 15., 15., 15., 15., 15., 15., 15., 15., 15.,\n",
       "       15., 15., 15., 15., 15., 15., 15., 15., 15., 15., 15., 15., 15.,\n",
       "       15., 15., 15., 15., 15., 15., 15., 15., 15., 15., 15., 15., 15.,\n",
       "       15., 15., 15., 15., 15., 15., 15., 15., 15., 15., 15., 15., 15.,\n",
       "       15., 15., 15., 15., 15., 15., 15., 15., 15.], dtype=float32)"
      ]
     },
     "execution_count": 11,
     "metadata": {},
     "output_type": "execute_result"
    }
   ],
   "source": [
    "tflite_interpreter.get_tensor(output_details[0]['index'])"
   ]
  },
  {
   "cell_type": "markdown",
   "id": "d5894d18-60c4-481d-99dc-bc9a3330e236",
   "metadata": {},
   "source": [
    "Since the accumulator is set to all zeros initially and the second input tensor was set to 100 values of 15, we get those 100 values of 15\n",
    "\n",
    "Next we subtract (first input tensor set to False) 100 values of 9.0"
   ]
  },
  {
   "cell_type": "code",
   "execution_count": 12,
   "id": "d48bd84a-ee3a-4bc1-8819-997d28bf663b",
   "metadata": {},
   "outputs": [],
   "source": [
    "tflite_interpreter.set_tensor(0,[False])\n",
    "tflite_interpreter.set_tensor(1,np.full((100,), 9.0, dtype=np.float32))\n",
    "tflite_interpreter.invoke()"
   ]
  },
  {
   "cell_type": "code",
   "execution_count": 13,
   "id": "79a8b534-3d82-4af1-b83d-05e7d752bf01",
   "metadata": {},
   "outputs": [
    {
     "data": {
      "text/plain": [
       "array([6., 6., 6., 6., 6., 6., 6., 6., 6., 6., 6., 6., 6., 6., 6., 6., 6.,\n",
       "       6., 6., 6., 6., 6., 6., 6., 6., 6., 6., 6., 6., 6., 6., 6., 6., 6.,\n",
       "       6., 6., 6., 6., 6., 6., 6., 6., 6., 6., 6., 6., 6., 6., 6., 6., 6.,\n",
       "       6., 6., 6., 6., 6., 6., 6., 6., 6., 6., 6., 6., 6., 6., 6., 6., 6.,\n",
       "       6., 6., 6., 6., 6., 6., 6., 6., 6., 6., 6., 6., 6., 6., 6., 6., 6.,\n",
       "       6., 6., 6., 6., 6., 6., 6., 6., 6., 6., 6., 6., 6., 6., 6.],\n",
       "      dtype=float32)"
      ]
     },
     "execution_count": 13,
     "metadata": {},
     "output_type": "execute_result"
    }
   ],
   "source": [
    "tflite_interpreter.get_tensor(output_details[0]['index'])"
   ]
  },
  {
   "cell_type": "markdown",
   "id": "e989d3f1-8783-4174-83a2-99bfb9c0d1ae",
   "metadata": {},
   "source": [
    "and finally we add 100 values of 5"
   ]
  },
  {
   "cell_type": "code",
   "execution_count": 15,
   "id": "34cae7c1-d710-4d66-abbe-9615c6155773",
   "metadata": {},
   "outputs": [],
   "source": [
    "tflite_interpreter.set_tensor(0,[True])\n",
    "tflite_interpreter.set_tensor(1,np.full((100,), 5.0, dtype=np.float32))\n",
    "tflite_interpreter.invoke()"
   ]
  },
  {
   "cell_type": "code",
   "execution_count": 16,
   "id": "5568aeb2-5114-46a0-ab04-9b0e211e9e42",
   "metadata": {},
   "outputs": [
    {
     "data": {
      "text/plain": [
       "array([11., 11., 11., 11., 11., 11., 11., 11., 11., 11., 11., 11., 11.,\n",
       "       11., 11., 11., 11., 11., 11., 11., 11., 11., 11., 11., 11., 11.,\n",
       "       11., 11., 11., 11., 11., 11., 11., 11., 11., 11., 11., 11., 11.,\n",
       "       11., 11., 11., 11., 11., 11., 11., 11., 11., 11., 11., 11., 11.,\n",
       "       11., 11., 11., 11., 11., 11., 11., 11., 11., 11., 11., 11., 11.,\n",
       "       11., 11., 11., 11., 11., 11., 11., 11., 11., 11., 11., 11., 11.,\n",
       "       11., 11., 11., 11., 11., 11., 11., 11., 11., 11., 11., 11., 11.,\n",
       "       11., 11., 11., 11., 11., 11., 11., 11., 11.], dtype=float32)"
      ]
     },
     "execution_count": 16,
     "metadata": {},
     "output_type": "execute_result"
    }
   ],
   "source": [
    "tflite_interpreter.get_tensor(output_details[0]['index'])"
   ]
  },
  {
   "cell_type": "code",
   "execution_count": null,
   "id": "abb7c517-0ce9-4930-9153-5d1320345a73",
   "metadata": {},
   "outputs": [],
   "source": []
  }
 ],
 "metadata": {
  "kernelspec": {
   "display_name": "AI",
   "language": "python",
   "name": "ai"
  },
  "language_info": {
   "codemirror_mode": {
    "name": "ipython",
    "version": 3
   },
   "file_extension": ".py",
   "mimetype": "text/x-python",
   "name": "python",
   "nbconvert_exporter": "python",
   "pygments_lexer": "ipython3",
   "version": "3.10.12"
  }
 },
 "nbformat": 4,
 "nbformat_minor": 5
}
