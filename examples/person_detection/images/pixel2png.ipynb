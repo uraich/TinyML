{
 "cells": [
  {
   "cell_type": "markdown",
   "id": "60a94b30-699f-4ccd-a1e6-3fc2cfd1a209",
   "metadata": {},
   "source": [
    "# Create a png image from gray scale pixel data"
   ]
  },
  {
   "cell_type": "code",
   "execution_count": 1,
   "id": "2bf5181b-720c-4266-8526-d54e4614e0b1",
   "metadata": {},
   "outputs": [],
   "source": [
    "from PIL import Image\n",
    "import numpy as np"
   ]
  },
  {
   "cell_type": "code",
   "execution_count": 3,
   "id": "51f12767-ec30-4edb-b236-eee6fb18ab29",
   "metadata": {},
   "outputs": [],
   "source": [
    "image = Image.new(mode=\"L\",size=(96,96))"
   ]
  },
  {
   "cell_type": "markdown",
   "id": "cd96140a-64fd-4251-a222-580cdf5c5a97",
   "metadata": {},
   "source": [
    "Read the pixels from the file. These are gray scale images with int8 pixels"
   ]
  },
  {
   "cell_type": "code",
   "execution_count": 9,
   "id": "8d69ff59-cbf3-436a-bc88-baf59b8e00a8",
   "metadata": {},
   "outputs": [],
   "source": [
    "filename = \"uli.dat\"\n",
    "f = open(filename,'rb')\n",
    "pixels = bytearray()\n",
    "pixels = f.read()\n",
    "f.close()"
   ]
  },
  {
   "cell_type": "code",
   "execution_count": 10,
   "id": "9476f19a-3314-4e95-8e54-b72a36c4ff13",
   "metadata": {},
   "outputs": [
    {
     "name": "stdout",
     "output_type": "stream",
     "text": [
      "size of pixel array: 9216\n"
     ]
    }
   ],
   "source": [
    "print(\"size of pixel array: {:d}\".format(len(pixels)))"
   ]
  },
  {
   "cell_type": "code",
   "execution_count": 12,
   "id": "d9f51e7e-056f-4529-9099-f1d902ca5fde",
   "metadata": {},
   "outputs": [],
   "source": [
    "pixels = np.frombuffer(pixels,dtype=np.int8).reshape((96,96))"
   ]
  },
  {
   "cell_type": "code",
   "execution_count": 14,
   "id": "29bc5018-541e-4ef3-b309-e14b058baa98",
   "metadata": {},
   "outputs": [],
   "source": [
    "image = Image.fromarray(pixels,mode='L')"
   ]
  },
  {
   "cell_type": "code",
   "execution_count": 15,
   "id": "9559b93d-98bc-4fbe-a1a6-f65d441d904c",
   "metadata": {},
   "outputs": [],
   "source": [
    "image.save(\"uli.png\")"
   ]
  },
  {
   "cell_type": "code",
   "execution_count": null,
   "id": "a87818b2-e852-4bc5-8028-0f79f306d94e",
   "metadata": {},
   "outputs": [],
   "source": []
  }
 ],
 "metadata": {
  "kernelspec": {
   "display_name": "AI",
   "language": "python",
   "name": "ai"
  },
  "language_info": {
   "codemirror_mode": {
    "name": "ipython",
    "version": 3
   },
   "file_extension": ".py",
   "mimetype": "text/x-python",
   "name": "python",
   "nbconvert_exporter": "python",
   "pygments_lexer": "ipython3",
   "version": "3.10.12"
  }
 },
 "nbformat": 4,
 "nbformat_minor": 5
}
